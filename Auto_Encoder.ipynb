{
 "cells": [
  {
   "cell_type": "markdown",
   "metadata": {},
   "source": [
    "# AUTOENCODERS"
   ]
  },
  {
   "cell_type": "markdown",
   "metadata": {},
   "source": [
    "* An unsupervised learning technique.\n",
    "* Takes an image input and try to reconstruct it using fewer number of bits from the bottle neck, also known as latent space.\n",
    "* Autoencoders are similar to dimensionallity reduction techniques like PCA.\n",
    "* PCA uses linear transformation whereas autoencoders use non-linear transformation.\n",
    "\n",
    "For example feed an image with just five pixel values to the autoencoder which is compresses by the encoder into 3 pixels at the bottle neck(middle layer). Using these three values the decoder tries to resconstruct the five pixel values.\n",
    "\n",
    "**Types of Autoencoders:**\n",
    "* Convolutional Autoencoder\n",
    "* Denoising Autoencoder\n",
    "* Variational Autoencoder\n",
    "* Sparse Autoencoder"
   ]
  },
  {
   "cell_type": "markdown",
   "metadata": {},
   "source": [
    "# Applying Autoencoder on MNIST Data"
   ]
  },
  {
   "cell_type": "markdown",
   "metadata": {},
   "source": [
    "## Imports"
   ]
  },
  {
   "cell_type": "code",
   "execution_count": 1,
   "metadata": {
    "ExecuteTime": {
     "end_time": "2020-01-09T09:33:15.584236Z",
     "start_time": "2020-01-09T09:33:13.433238Z"
    }
   },
   "outputs": [
    {
     "name": "stderr",
     "output_type": "stream",
     "text": [
      "Using TensorFlow backend.\n",
      "/root/anaconda3/lib/python3.7/site-packages/tensorflow/python/framework/dtypes.py:516: FutureWarning: Passing (type, 1) or '1type' as a synonym of type is deprecated; in a future version of numpy, it will be understood as (type, (1,)) / '(1,)type'.\n",
      "  _np_qint8 = np.dtype([(\"qint8\", np.int8, 1)])\n",
      "/root/anaconda3/lib/python3.7/site-packages/tensorflow/python/framework/dtypes.py:517: FutureWarning: Passing (type, 1) or '1type' as a synonym of type is deprecated; in a future version of numpy, it will be understood as (type, (1,)) / '(1,)type'.\n",
      "  _np_quint8 = np.dtype([(\"quint8\", np.uint8, 1)])\n",
      "/root/anaconda3/lib/python3.7/site-packages/tensorflow/python/framework/dtypes.py:518: FutureWarning: Passing (type, 1) or '1type' as a synonym of type is deprecated; in a future version of numpy, it will be understood as (type, (1,)) / '(1,)type'.\n",
      "  _np_qint16 = np.dtype([(\"qint16\", np.int16, 1)])\n",
      "/root/anaconda3/lib/python3.7/site-packages/tensorflow/python/framework/dtypes.py:519: FutureWarning: Passing (type, 1) or '1type' as a synonym of type is deprecated; in a future version of numpy, it will be understood as (type, (1,)) / '(1,)type'.\n",
      "  _np_quint16 = np.dtype([(\"quint16\", np.uint16, 1)])\n",
      "/root/anaconda3/lib/python3.7/site-packages/tensorflow/python/framework/dtypes.py:520: FutureWarning: Passing (type, 1) or '1type' as a synonym of type is deprecated; in a future version of numpy, it will be understood as (type, (1,)) / '(1,)type'.\n",
      "  _np_qint32 = np.dtype([(\"qint32\", np.int32, 1)])\n",
      "/root/anaconda3/lib/python3.7/site-packages/tensorflow/python/framework/dtypes.py:525: FutureWarning: Passing (type, 1) or '1type' as a synonym of type is deprecated; in a future version of numpy, it will be understood as (type, (1,)) / '(1,)type'.\n",
      "  np_resource = np.dtype([(\"resource\", np.ubyte, 1)])\n",
      "/root/anaconda3/lib/python3.7/site-packages/tensorboard/compat/tensorflow_stub/dtypes.py:541: FutureWarning: Passing (type, 1) or '1type' as a synonym of type is deprecated; in a future version of numpy, it will be understood as (type, (1,)) / '(1,)type'.\n",
      "  _np_qint8 = np.dtype([(\"qint8\", np.int8, 1)])\n",
      "/root/anaconda3/lib/python3.7/site-packages/tensorboard/compat/tensorflow_stub/dtypes.py:542: FutureWarning: Passing (type, 1) or '1type' as a synonym of type is deprecated; in a future version of numpy, it will be understood as (type, (1,)) / '(1,)type'.\n",
      "  _np_quint8 = np.dtype([(\"quint8\", np.uint8, 1)])\n",
      "/root/anaconda3/lib/python3.7/site-packages/tensorboard/compat/tensorflow_stub/dtypes.py:543: FutureWarning: Passing (type, 1) or '1type' as a synonym of type is deprecated; in a future version of numpy, it will be understood as (type, (1,)) / '(1,)type'.\n",
      "  _np_qint16 = np.dtype([(\"qint16\", np.int16, 1)])\n",
      "/root/anaconda3/lib/python3.7/site-packages/tensorboard/compat/tensorflow_stub/dtypes.py:544: FutureWarning: Passing (type, 1) or '1type' as a synonym of type is deprecated; in a future version of numpy, it will be understood as (type, (1,)) / '(1,)type'.\n",
      "  _np_quint16 = np.dtype([(\"quint16\", np.uint16, 1)])\n",
      "/root/anaconda3/lib/python3.7/site-packages/tensorboard/compat/tensorflow_stub/dtypes.py:545: FutureWarning: Passing (type, 1) or '1type' as a synonym of type is deprecated; in a future version of numpy, it will be understood as (type, (1,)) / '(1,)type'.\n",
      "  _np_qint32 = np.dtype([(\"qint32\", np.int32, 1)])\n",
      "/root/anaconda3/lib/python3.7/site-packages/tensorboard/compat/tensorflow_stub/dtypes.py:550: FutureWarning: Passing (type, 1) or '1type' as a synonym of type is deprecated; in a future version of numpy, it will be understood as (type, (1,)) / '(1,)type'.\n",
      "  np_resource = np.dtype([(\"resource\", np.ubyte, 1)])\n"
     ]
    }
   ],
   "source": [
    "import keras\n",
    "from matplotlib import pyplot as plt\n",
    "import numpy as np\n",
    "import gzip\n",
    "%matplotlib inline\n",
    "import pandas as pd\n",
    "import warnings\n",
    "warnings.filterwarnings(\"ignore\")\n",
    "pd.set_option('max_colwidth', 999)\n",
    "pd.set_option('display.max_columns', 999)\n",
    "pd.set_option(\"display.max_rows\", 999)\n",
    "from keras.models import Model\n",
    "from keras.optimizers import RMSprop\n",
    "from keras.layers import Input, Dense, Flatten, Dropout, merge, Reshape, Conv2D, MaxPooling2D, UpSampling2D, Conv2DTranspose\n",
    "from keras.layers.normalization import BatchNormalization\n",
    "from keras.models import Model, Sequential\n",
    "from keras.callbacks import ModelCheckpoint, EarlyStopping\n",
    "from keras.optimizers import Adadelta, RMSprop, SGD, Adam\n",
    "from keras import regularizers\n",
    "from keras import backend as K\n",
    "from keras.utils import to_categorical\n",
    "import seaborn as sns\n",
    "sns.set(style=\"whitegrid\", color_codes=True)\n",
    "%matplotlib inline"
   ]
  },
  {
   "cell_type": "markdown",
   "metadata": {},
   "source": [
    "## Utility Functions"
   ]
  },
  {
   "cell_type": "markdown",
   "metadata": {},
   "source": [
    "Here define functions that opens the gzip files and reads them using **bytestream.read()** pass the image dimension and the number of images you have in total to this function. Then, using **np.frombuffer()**, convert the string stored in variable buf into a NumPy array of type float32.\n",
    "\n",
    "Once it is converted into a NumPy array, reshape the array into a three-dimensional array or tensor where the first dimension is a number of images, and the second and third dimension being the dimension of the image. Finally, return the NumPy array data."
   ]
  },
  {
   "cell_type": "code",
   "execution_count": 2,
   "metadata": {
    "ExecuteTime": {
     "end_time": "2020-01-09T09:33:15.588820Z",
     "start_time": "2020-01-09T09:33:15.585856Z"
    }
   },
   "outputs": [],
   "source": [
    "def extract_data(filename, num_images):\n",
    "    with gzip.open(filename) as bytestream:\n",
    "        bytestream.read(16)\n",
    "        buf = bytestream.read(28 * 28 * num_images)\n",
    "        data = np.frombuffer(buf, dtype=np.uint8).astype(np.float32)\n",
    "        data = data.reshape(num_images, 28, 28)\n",
    "        return data"
   ]
  },
  {
   "cell_type": "code",
   "execution_count": 3,
   "metadata": {
    "ExecuteTime": {
     "end_time": "2020-01-09T09:33:16.041522Z",
     "start_time": "2020-01-09T09:33:15.590279Z"
    }
   },
   "outputs": [],
   "source": [
    "# Calling the extract_data function by passing the training and testing files along with the corresponding number of images.\n",
    "\n",
    "train_data = extract_data('train-images-idx3-ubyte.gz', 60000)\n",
    "test_data = extract_data('t10k-images-idx3-ubyte.gz', 10000)"
   ]
  },
  {
   "cell_type": "markdown",
   "metadata": {
    "ExecuteTime": {
     "end_time": "2019-12-26T09:59:42.824998Z",
     "start_time": "2019-12-26T09:59:42.821113Z"
    }
   },
   "source": [
    "Define similar function for reading labels."
   ]
  },
  {
   "cell_type": "code",
   "execution_count": 4,
   "metadata": {
    "ExecuteTime": {
     "end_time": "2020-01-09T09:33:16.047015Z",
     "start_time": "2020-01-09T09:33:16.043328Z"
    }
   },
   "outputs": [],
   "source": [
    "def extract_labels(filename, num_images):\n",
    "    with gzip.open(filename) as bytestream:\n",
    "        bytestream.read(8)\n",
    "        buf = bytestream.read(1 * num_images)\n",
    "        labels = np.frombuffer(buf, dtype=np.uint8).astype(np.int64)\n",
    "        return labels"
   ]
  },
  {
   "cell_type": "code",
   "execution_count": 5,
   "metadata": {
    "ExecuteTime": {
     "end_time": "2020-01-09T09:33:16.051767Z",
     "start_time": "2020-01-09T09:33:16.048442Z"
    }
   },
   "outputs": [],
   "source": [
    "# Calling the above function to read labels.\n",
    "\n",
    "train_labels = extract_labels('train-labels-idx1-ubyte.gz', 60000)\n",
    "test_labels = extract_labels('t10k-labels-idx1-ubyte.gz', 10000)"
   ]
  },
  {
   "cell_type": "markdown",
   "metadata": {},
   "source": [
    "## Data Exploration"
   ]
  },
  {
   "cell_type": "code",
   "execution_count": 6,
   "metadata": {
    "ExecuteTime": {
     "end_time": "2020-01-09T09:33:16.056283Z",
     "start_time": "2020-01-09T09:33:16.053305Z"
    }
   },
   "outputs": [
    {
     "name": "stdout",
     "output_type": "stream",
     "text": [
      "Training set (images) shape: (60000, 28, 28)\n",
      "Test set (images) shape: (10000, 28, 28)\n"
     ]
    }
   ],
   "source": [
    "# Shapes of training set\n",
    "print(\"Training set (images) shape: {shape}\".format(shape=train_data.shape))\n",
    "\n",
    "# Shapes of test set\n",
    "print(\"Test set (images) shape: {shape}\".format(shape=test_data.shape))"
   ]
  },
  {
   "cell_type": "code",
   "execution_count": 7,
   "metadata": {
    "ExecuteTime": {
     "end_time": "2020-01-09T09:33:16.061125Z",
     "start_time": "2020-01-09T09:33:16.057752Z"
    }
   },
   "outputs": [],
   "source": [
    "# Creating a dictionary that will contain class labels coressponding to class name.\n",
    "\n",
    "label_dict = {\n",
    "    0: 'A',\n",
    "    1: 'B',\n",
    "    2: 'C',\n",
    "    3: 'D',\n",
    "    4: 'E',\n",
    "    5: 'F',\n",
    "    6: 'G',\n",
    "    7: 'H',\n",
    "    8: 'I',\n",
    "    9: 'J',\n",
    "}"
   ]
  },
  {
   "cell_type": "markdown",
   "metadata": {},
   "source": [
    "**Looking at couple images in the data**"
   ]
  },
  {
   "cell_type": "code",
   "execution_count": 8,
   "metadata": {
    "ExecuteTime": {
     "end_time": "2020-01-09T09:33:16.556023Z",
     "start_time": "2020-01-09T09:33:16.062541Z"
    }
   },
   "outputs": [
    {
     "data": {
      "text/plain": [
       "Text(0.5, 1.0, '(Label: E)')"
      ]
     },
     "execution_count": 8,
     "metadata": {},
     "output_type": "execute_result"
    },
    {
     "data": {
      "image/png": "[encoded data removed]",
      "text/plain": [
       "<Figure size 360x360 with 2 Axes>"
      ]
     },
     "metadata": {
      "needs_background": "light"
     },
     "output_type": "display_data"
    }
   ],
   "source": [
    "plt.figure(figsize=[5, 5])\n",
    "\n",
    "# Display the first image in training data\n",
    "plt.subplot(121)\n",
    "curr_img = np.reshape(train_data[10], (28, 28))\n",
    "curr_lbl = train_labels[10]\n",
    "plt.imshow(curr_img,cmap='gray')\n",
    "plt.title(\"(Label: \" + str(label_dict[curr_lbl]) + \")\")\n",
    "\n",
    "# Display the first image in testing data\n",
    "plt.subplot(122)\n",
    "curr_img = np.reshape(test_data[10], (28, 28))\n",
    "curr_lbl = test_labels[10]\n",
    "plt.imshow(curr_img,cmap='gray')\n",
    "plt.title(\"(Label: \" + str(label_dict[curr_lbl]) + \")\")"
   ]
  },
  {
   "cell_type": "markdown",
   "metadata": {},
   "source": [
    "## Data Preprocessing"
   ]
  },
  {
   "cell_type": "markdown",
   "metadata": {},
   "source": [
    "Each image in the train and test are gray scale images pixels ranging from 0-255. Each image is of the size of 28x28, so we need to convert it into the size of 28x28x1 so that they can be feeded to the model."
   ]
  },
  {
   "cell_type": "code",
   "execution_count": 9,
   "metadata": {
    "ExecuteTime": {
     "end_time": "2020-01-09T09:33:16.562392Z",
     "start_time": "2020-01-09T09:33:16.557816Z"
    }
   },
   "outputs": [
    {
     "data": {
      "text/plain": [
       "((60000, 28, 28, 1), (10000, 28, 28, 1))"
      ]
     },
     "execution_count": 9,
     "metadata": {},
     "output_type": "execute_result"
    }
   ],
   "source": [
    "train_data = train_data.reshape(-1, 28, 28, 1)\n",
    "test_data = test_data.reshape(-1, 28, 28, 1)\n",
    "train_data.shape, test_data.shape"
   ]
  },
  {
   "cell_type": "markdown",
   "metadata": {},
   "source": [
    "Need to check the datatype of numpy array for each image data, it should be float32. Also need to rescale the pixels in the range of 0-1 inclusive."
   ]
  },
  {
   "cell_type": "code",
   "execution_count": 10,
   "metadata": {
    "ExecuteTime": {
     "end_time": "2020-01-09T09:33:16.568144Z",
     "start_time": "2020-01-09T09:33:16.563811Z"
    }
   },
   "outputs": [
    {
     "data": {
      "text/plain": [
       "(dtype('float32'), dtype('float32'))"
      ]
     },
     "execution_count": 10,
     "metadata": {},
     "output_type": "execute_result"
    }
   ],
   "source": [
    "train_data.dtype, test_data.dtype"
   ]
  },
  {
   "cell_type": "code",
   "execution_count": 11,
   "metadata": {
    "ExecuteTime": {
     "end_time": "2020-01-09T09:33:16.595690Z",
     "start_time": "2020-01-09T09:33:16.569694Z"
    }
   },
   "outputs": [
    {
     "data": {
      "text/plain": [
       "(255.0, 255.0)"
      ]
     },
     "execution_count": 11,
     "metadata": {},
     "output_type": "execute_result"
    }
   ],
   "source": [
    "# Rescaling the data.\n",
    "np.max(train_data), np.max(test_data)"
   ]
  },
  {
   "cell_type": "code",
   "execution_count": 12,
   "metadata": {
    "ExecuteTime": {
     "end_time": "2020-01-09T09:33:16.698254Z",
     "start_time": "2020-01-09T09:33:16.597361Z"
    }
   },
   "outputs": [],
   "source": [
    "train_data = train_data / np.max(train_data)\n",
    "test_data = test_data / np.max(test_data)"
   ]
  },
  {
   "cell_type": "code",
   "execution_count": 13,
   "metadata": {
    "ExecuteTime": {
     "end_time": "2020-01-09T09:33:16.727584Z",
     "start_time": "2020-01-09T09:33:16.700171Z"
    }
   },
   "outputs": [
    {
     "data": {
      "text/plain": [
       "(1.0, 1.0)"
      ]
     },
     "execution_count": 13,
     "metadata": {},
     "output_type": "execute_result"
    }
   ],
   "source": [
    "# Checking the maximum value after rescatling the data.\n",
    "np.max(train_data), np.max(test_data)"
   ]
  },
  {
   "cell_type": "markdown",
   "metadata": {},
   "source": [
    "Split the training data into two parts: Training and Validation, model will train on 80% of the data and remaining 20% will be used for validation of the model, this will reduce chances of overfitting."
   ]
  },
  {
   "cell_type": "code",
   "execution_count": 14,
   "metadata": {
    "ExecuteTime": {
     "end_time": "2020-01-09T09:33:16.969754Z",
     "start_time": "2020-01-09T09:33:16.729191Z"
    }
   },
   "outputs": [],
   "source": [
    "from sklearn.model_selection import train_test_split\n",
    "train_X, valid_X, train_ground, valid_ground = train_test_split(\n",
    "    train_data, train_data, test_size=0.2, random_state=13)"
   ]
  },
  {
   "cell_type": "markdown",
   "metadata": {},
   "source": [
    "In the above cell **train_data** is passed twice because autoencoder doesn't need labels to learn, it will learn by looking at the training data only.\n",
    "\n",
    "For classification task above code will be needed to be run again, the only change would be about labels, during classification we would require labels too.\n"
   ]
  },
  {
   "cell_type": "markdown",
   "metadata": {},
   "source": [
    "## The Convolutional Encoder"
   ]
  },
  {
   "cell_type": "markdown",
   "metadata": {},
   "source": [
    "Autoencoder has two parts **Encoder** **Decoder**\n",
    "\n",
    "* **Encoder :-**  It has 4 Convolution blocks, each block has a convolution layer followed by a batch normalization layer. Max-pooling layer is used after the first and second convolution blocks.\n",
    "    * The first convolution block will have 32 filters of size 3 x 3, followed by a downsampling (max-pooling) layer,\n",
    "    * The second block will have 64 filters of size 3 x 3, followed by another downsampling layer,\n",
    "    * The third block of encoder will have 128 filters of size 3 x 3,\n",
    "    * The fourth block of encoder will have 256 filters of size 3 x 3.\n",
    "    \n",
    "* **Decoder :-**  It has 3 Convolution blocks, each block has a convolution layer followed by a batch normalization layer. Upsampling layer is used after the second and third convolution blocks.\n",
    "    * The first block will have 128 filters of size 3 x 3,\n",
    "    * The second block will have 64 filters of size 3 x 3 followed by another upsampling layer,\n",
    "    * The third block will have 32 filters of size 3 x 3 followed by another upsampling layer,\n",
    "    * The final layer of encoder will have 1 filter of size 3 x 3 which will reconstruct back the input having a single channel.\n",
    "    \n",
    "The max-pooling layer will downsample the input by two times each time it is used, while the upsampling layer will upsample the input by two times each time it is used.\n",
    "\n",
    "**Note:** The number of filters, the filter size, the number of layers, number of epochs you train your model, are all hyperparameters and should be decided based on your own intuition, you are free to try new experiments by tweaking with these hyperparameters and measure the performance of your model. And that is how you will slowly learn the art of deep learning!"
   ]
  },
  {
   "cell_type": "markdown",
   "metadata": {},
   "source": [
    "### Creating Encoder and Decoder"
   ]
  },
  {
   "cell_type": "code",
   "execution_count": 15,
   "metadata": {
    "ExecuteTime": {
     "end_time": "2020-01-09T09:33:16.991607Z",
     "start_time": "2020-01-09T09:33:16.971855Z"
    }
   },
   "outputs": [],
   "source": [
    "batch_size = 64\n",
    "epochs = 200\n",
    "inChannel = 1\n",
    "x, y = 28, 28\n",
    "input_img = Input(shape=(x, y, inChannel))\n",
    "num_classes = 10"
   ]
  },
  {
   "cell_type": "code",
   "execution_count": 16,
   "metadata": {
    "ExecuteTime": {
     "end_time": "2020-01-09T09:33:17.002615Z",
     "start_time": "2020-01-09T09:33:16.993238Z"
    }
   },
   "outputs": [],
   "source": [
    "# Creating Encoder and Decoder Functions.\n",
    "\n",
    "\n",
    "def encoder(input_img):\n",
    "    #encoder\n",
    "    #input = 28 x 28 x 1 (wide and thin)\n",
    "    conv1 = Conv2D(32, (3, 3), activation='relu',\n",
    "                   padding='same')(input_img)  #28 x 28 x 32\n",
    "    conv1 = BatchNormalization()(conv1)\n",
    "    conv1 = Conv2D(32, (3, 3), activation='relu', padding='same')(conv1)\n",
    "    conv1 = BatchNormalization()(conv1)\n",
    "    pool1 = MaxPooling2D(pool_size=(2, 2))(conv1)  #14 x 14 x 32\n",
    "    conv2 = Conv2D(64, (3, 3), activation='relu',\n",
    "                   padding='same')(pool1)  #14 x 14 x 64\n",
    "    conv2 = BatchNormalization()(conv2)\n",
    "    conv2 = Conv2D(64, (3, 3), activation='relu', padding='same')(conv2)\n",
    "    conv2 = BatchNormalization()(conv2)\n",
    "    pool2 = MaxPooling2D(pool_size=(2, 2))(conv2)  #7 x 7 x 64\n",
    "    conv3 = Conv2D(128, (3, 3), activation='relu',\n",
    "                   padding='same')(pool2)  #7 x 7 x 128 (small and thick)\n",
    "    conv3 = BatchNormalization()(conv3)\n",
    "    conv3 = Conv2D(128, (3, 3), activation='relu', padding='same')(conv3)\n",
    "    conv3 = BatchNormalization()(conv3)\n",
    "    conv4 = Conv2D(256, (3, 3), activation='relu',\n",
    "                   padding='same')(conv3)  #7 x 7 x 256 (small and thick)\n",
    "    conv4 = BatchNormalization()(conv4)\n",
    "    conv4 = Conv2D(256, (3, 3), activation='relu', padding='same')(conv4)\n",
    "    conv4 = BatchNormalization()(conv4)\n",
    "    return conv4\n",
    "\n",
    "\n",
    "def decoder(conv4):\n",
    "    #decoder\n",
    "    conv5 = Conv2D(128, (3, 3), activation='relu',\n",
    "                   padding='same')(conv4)  #7 x 7 x 128\n",
    "    conv5 = BatchNormalization()(conv5)\n",
    "    conv5 = Conv2D(128, (3, 3), activation='relu', padding='same')(conv5)\n",
    "    conv5 = BatchNormalization()(conv5)\n",
    "    conv6 = Conv2D(64, (3, 3), activation='relu',\n",
    "                   padding='same')(conv5)  #7 x 7 x 64\n",
    "    conv6 = BatchNormalization()(conv6)\n",
    "    conv6 = Conv2D(64, (3, 3), activation='relu', padding='same')(conv6)\n",
    "    conv6 = BatchNormalization()(conv6)\n",
    "    up1 = UpSampling2D((2, 2))(conv6)  #14 x 14 x 64\n",
    "    conv7 = Conv2D(32, (3, 3), activation='relu',\n",
    "                   padding='same')(up1)  # 14 x 14 x 32\n",
    "    conv7 = BatchNormalization()(conv7)\n",
    "    conv7 = Conv2D(32, (3, 3), activation='relu', padding='same')(conv7)\n",
    "    conv7 = BatchNormalization()(conv7)\n",
    "    up2 = UpSampling2D((2, 2))(conv7)  # 28 x 28 x 32\n",
    "    decoded = Conv2D(1, (3, 3), activation='sigmoid',\n",
    "                     padding='same')(up2)  # 28 x 28 x 1\n",
    "    return decoded"
   ]
  },
  {
   "cell_type": "markdown",
   "metadata": {},
   "source": [
    "### Compiling The Model"
   ]
  },
  {
   "cell_type": "code",
   "execution_count": 17,
   "metadata": {
    "ExecuteTime": {
     "end_time": "2020-01-09T09:33:18.165336Z",
     "start_time": "2020-01-09T09:33:17.004194Z"
    }
   },
   "outputs": [
    {
     "name": "stdout",
     "output_type": "stream",
     "text": [
      "WARNING:tensorflow:From /root/anaconda3/lib/python3.7/site-packages/keras/backend/tensorflow_backend.py:4070: The name tf.nn.max_pool is deprecated. Please use tf.nn.max_pool2d instead.\n",
      "\n"
     ]
    }
   ],
   "source": [
    "autoencoder = Model(input_img, decoder(encoder(input_img)))\n",
    "autoencoder.compile(loss='mean_squared_error', optimizer=RMSprop())"
   ]
  },
  {
   "cell_type": "code",
   "execution_count": 18,
   "metadata": {
    "ExecuteTime": {
     "end_time": "2020-01-09T09:33:18.174873Z",
     "start_time": "2020-01-09T09:33:18.167088Z"
    }
   },
   "outputs": [
    {
     "name": "stdout",
     "output_type": "stream",
     "text": [
      "Model: \"model_1\"\n",
      "_________________________________________________________________\n",
      "Layer (type)                 Output Shape              Param #   \n",
      "=================================================================\n",
      "input_1 (InputLayer)         (None, 28, 28, 1)         0         \n",
      "_________________________________________________________________\n",
      "conv2d_1 (Conv2D)            (None, 28, 28, 32)        320       \n",
      "_________________________________________________________________\n",
      "batch_normalization_1 (Batch (None, 28, 28, 32)        128       \n",
      "_________________________________________________________________\n",
      "conv2d_2 (Conv2D)            (None, 28, 28, 32)        9248      \n",
      "_________________________________________________________________\n",
      "batch_normalization_2 (Batch (None, 28, 28, 32)        128       \n",
      "_________________________________________________________________\n",
      "max_pooling2d_1 (MaxPooling2 (None, 14, 14, 32)        0         \n",
      "_________________________________________________________________\n",
      "conv2d_3 (Conv2D)            (None, 14, 14, 64)        18496     \n",
      "_________________________________________________________________\n",
      "batch_normalization_3 (Batch (None, 14, 14, 64)        256       \n",
      "_________________________________________________________________\n",
      "conv2d_4 (Conv2D)            (None, 14, 14, 64)        36928     \n",
      "_________________________________________________________________\n",
      "batch_normalization_4 (Batch (None, 14, 14, 64)        256       \n",
      "_________________________________________________________________\n",
      "max_pooling2d_2 (MaxPooling2 (None, 7, 7, 64)          0         \n",
      "_________________________________________________________________\n",
      "conv2d_5 (Conv2D)            (None, 7, 7, 128)         73856     \n",
      "_________________________________________________________________\n",
      "batch_normalization_5 (Batch (None, 7, 7, 128)         512       \n",
      "_________________________________________________________________\n",
      "conv2d_6 (Conv2D)            (None, 7, 7, 128)         147584    \n",
      "_________________________________________________________________\n",
      "batch_normalization_6 (Batch (None, 7, 7, 128)         512       \n",
      "_________________________________________________________________\n",
      "conv2d_7 (Conv2D)            (None, 7, 7, 256)         295168    \n",
      "_________________________________________________________________\n",
      "batch_normalization_7 (Batch (None, 7, 7, 256)         1024      \n",
      "_________________________________________________________________\n",
      "conv2d_8 (Conv2D)            (None, 7, 7, 256)         590080    \n",
      "_________________________________________________________________\n",
      "batch_normalization_8 (Batch (None, 7, 7, 256)         1024      \n",
      "_________________________________________________________________\n",
      "conv2d_9 (Conv2D)            (None, 7, 7, 128)         295040    \n",
      "_________________________________________________________________\n",
      "batch_normalization_9 (Batch (None, 7, 7, 128)         512       \n",
      "_________________________________________________________________\n",
      "conv2d_10 (Conv2D)           (None, 7, 7, 128)         147584    \n",
      "_________________________________________________________________\n",
      "batch_normalization_10 (Batc (None, 7, 7, 128)         512       \n",
      "_________________________________________________________________\n",
      "conv2d_11 (Conv2D)           (None, 7, 7, 64)          73792     \n",
      "_________________________________________________________________\n",
      "batch_normalization_11 (Batc (None, 7, 7, 64)          256       \n",
      "_________________________________________________________________\n",
      "conv2d_12 (Conv2D)           (None, 7, 7, 64)          36928     \n",
      "_________________________________________________________________\n",
      "batch_normalization_12 (Batc (None, 7, 7, 64)          256       \n",
      "_________________________________________________________________\n",
      "up_sampling2d_1 (UpSampling2 (None, 14, 14, 64)        0         \n",
      "_________________________________________________________________\n",
      "conv2d_13 (Conv2D)           (None, 14, 14, 32)        18464     \n",
      "_________________________________________________________________\n",
      "batch_normalization_13 (Batc (None, 14, 14, 32)        128       \n",
      "_________________________________________________________________\n",
      "conv2d_14 (Conv2D)           (None, 14, 14, 32)        9248      \n",
      "_________________________________________________________________\n",
      "batch_normalization_14 (Batc (None, 14, 14, 32)        128       \n",
      "_________________________________________________________________\n",
      "up_sampling2d_2 (UpSampling2 (None, 28, 28, 32)        0         \n",
      "_________________________________________________________________\n",
      "conv2d_15 (Conv2D)           (None, 28, 28, 1)         289       \n",
      "=================================================================\n",
      "Total params: 1,758,657\n",
      "Trainable params: 1,755,841\n",
      "Non-trainable params: 2,816\n",
      "_________________________________________________________________\n"
     ]
    }
   ],
   "source": [
    "autoencoder.summary()"
   ]
  },
  {
   "cell_type": "markdown",
   "metadata": {},
   "source": [
    "### Training The Model"
   ]
  },
  {
   "cell_type": "code",
   "execution_count": 19,
   "metadata": {
    "ExecuteTime": {
     "end_time": "2020-01-09T16:33:10.988948Z",
     "start_time": "2020-01-09T09:33:18.187143Z"
    },
    "scrolled": true
   },
   "outputs": [
    {
     "name": "stdout",
     "output_type": "stream",
     "text": [
      "WARNING:tensorflow:From /root/anaconda3/lib/python3.7/site-packages/keras/backend/tensorflow_backend.py:422: The name tf.global_variables is deprecated. Please use tf.compat.v1.global_variables instead.\n",
      "\n",
      "Train on 48000 samples, validate on 12000 samples\n",
      "Epoch 1/200\n",
      "48000/48000 [==============================] - 135s 3ms/step - loss: 0.0201 - val_loss: 0.0142\n",
      "Epoch 2/200\n",
      "48000/48000 [==============================] - 127s 3ms/step - loss: 0.0087 - val_loss: 0.0078\n",
      "Epoch 3/200\n",
      "48000/48000 [==============================] - 126s 3ms/step - loss: 0.0068 - val_loss: 0.0078\n",
      "Epoch 4/200\n",
      "48000/48000 [==============================] - 125s 3ms/step - loss: 0.0057 - val_loss: 0.0057\n",
      "Epoch 5/200\n",
      "48000/48000 [==============================] - 125s 3ms/step - loss: 0.0051 - val_loss: 0.0053\n",
      "Epoch 6/200\n",
      "48000/48000 [==============================] - 128s 3ms/step - loss: 0.0045 - val_loss: 0.0057\n",
      "Epoch 7/200\n",
      "48000/48000 [==============================] - 125s 3ms/step - loss: 0.0040 - val_loss: 0.0042\n",
      "Epoch 8/200\n",
      "48000/48000 [==============================] - 126s 3ms/step - loss: 0.0037 - val_loss: 0.0046\n",
      "Epoch 9/200\n",
      "48000/48000 [==============================] - 125s 3ms/step - loss: 0.0034 - val_loss: 0.0035\n",
      "Epoch 10/200\n",
      "48000/48000 [==============================] - 127s 3ms/step - loss: 0.0032 - val_loss: 0.0034\n",
      "Epoch 11/200\n",
      "48000/48000 [==============================] - 125s 3ms/step - loss: 0.0030 - val_loss: 0.0028\n",
      "Epoch 12/200\n",
      "48000/48000 [==============================] - 126s 3ms/step - loss: 0.0028 - val_loss: 0.0028\n",
      "Epoch 13/200\n",
      "48000/48000 [==============================] - 125s 3ms/step - loss: 0.0027 - val_loss: 0.0026\n",
      "Epoch 14/200\n",
      "48000/48000 [==============================] - 127s 3ms/step - loss: 0.0026 - val_loss: 0.0023\n",
      "Epoch 15/200\n",
      "48000/48000 [==============================] - 126s 3ms/step - loss: 0.0025 - val_loss: 0.0023\n",
      "Epoch 16/200\n",
      "48000/48000 [==============================] - 127s 3ms/step - loss: 0.0024 - val_loss: 0.0030\n",
      "Epoch 17/200\n",
      "48000/48000 [==============================] - 126s 3ms/step - loss: 0.0023 - val_loss: 0.0027\n",
      "Epoch 18/200\n",
      "48000/48000 [==============================] - 126s 3ms/step - loss: 0.0022 - val_loss: 0.0023\n",
      "Epoch 19/200\n",
      "48000/48000 [==============================] - 125s 3ms/step - loss: 0.0021 - val_loss: 0.0024\n",
      "Epoch 20/200\n",
      "48000/48000 [==============================] - 127s 3ms/step - loss: 0.0021 - val_loss: 0.0026\n",
      "Epoch 21/200\n",
      "48000/48000 [==============================] - 125s 3ms/step - loss: 0.0020 - val_loss: 0.0020\n",
      "Epoch 22/200\n",
      "48000/48000 [==============================] - 127s 3ms/step - loss: 0.0020 - val_loss: 0.0019\n",
      "Epoch 23/200\n",
      "48000/48000 [==============================] - 126s 3ms/step - loss: 0.0019 - val_loss: 0.0027\n",
      "Epoch 24/200\n",
      "48000/48000 [==============================] - 127s 3ms/step - loss: 0.0019 - val_loss: 0.0018\n",
      "Epoch 25/200\n",
      "48000/48000 [==============================] - 126s 3ms/step - loss: 0.0018 - val_loss: 0.0018\n",
      "Epoch 26/200\n",
      "48000/48000 [==============================] - 127s 3ms/step - loss: 0.0018 - val_loss: 0.0020\n",
      "Epoch 27/200\n",
      "48000/48000 [==============================] - 127s 3ms/step - loss: 0.0018 - val_loss: 0.0016\n",
      "Epoch 28/200\n",
      "48000/48000 [==============================] - 126s 3ms/step - loss: 0.0017 - val_loss: 0.0023\n",
      "Epoch 29/200\n",
      "48000/48000 [==============================] - 126s 3ms/step - loss: 0.0017 - val_loss: 0.0017\n",
      "Epoch 30/200\n",
      "48000/48000 [==============================] - 126s 3ms/step - loss: 0.0017 - val_loss: 0.0016\n",
      "Epoch 31/200\n",
      "48000/48000 [==============================] - 125s 3ms/step - loss: 0.0016 - val_loss: 0.0017\n",
      "Epoch 32/200\n",
      "48000/48000 [==============================] - 126s 3ms/step - loss: 0.0016 - val_loss: 0.0017\n",
      "Epoch 33/200\n",
      "48000/48000 [==============================] - 127s 3ms/step - loss: 0.0016 - val_loss: 0.0017\n",
      "Epoch 34/200\n",
      "48000/48000 [==============================] - 128s 3ms/step - loss: 0.0016 - val_loss: 0.0015\n",
      "Epoch 35/200\n",
      "48000/48000 [==============================] - 126s 3ms/step - loss: 0.0015 - val_loss: 0.0018\n",
      "Epoch 36/200\n",
      "48000/48000 [==============================] - 126s 3ms/step - loss: 0.0015 - val_loss: 0.0014\n",
      "Epoch 37/200\n",
      "48000/48000 [==============================] - 127s 3ms/step - loss: 0.0015 - val_loss: 0.0015\n",
      "Epoch 38/200\n",
      "48000/48000 [==============================] - 126s 3ms/step - loss: 0.0015 - val_loss: 0.0014\n",
      "Epoch 39/200\n",
      "48000/48000 [==============================] - 127s 3ms/step - loss: 0.0015 - val_loss: 0.0015\n",
      "Epoch 40/200\n",
      "48000/48000 [==============================] - 126s 3ms/step - loss: 0.0014 - val_loss: 0.0017\n",
      "Epoch 41/200\n",
      "48000/48000 [==============================] - 126s 3ms/step - loss: 0.0014 - val_loss: 0.0014\n",
      "Epoch 42/200\n",
      "48000/48000 [==============================] - 124s 3ms/step - loss: 0.0014 - val_loss: 0.0014\n",
      "Epoch 43/200\n",
      "48000/48000 [==============================] - 127s 3ms/step - loss: 0.0014 - val_loss: 0.0018\n",
      "Epoch 44/200\n",
      "48000/48000 [==============================] - 126s 3ms/step - loss: 0.0014 - val_loss: 0.0015\n",
      "Epoch 45/200\n",
      "48000/48000 [==============================] - 127s 3ms/step - loss: 0.0013 - val_loss: 0.0013\n",
      "Epoch 46/200\n",
      "48000/48000 [==============================] - 124s 3ms/step - loss: 0.0013 - val_loss: 0.0014\n",
      "Epoch 47/200\n",
      "48000/48000 [==============================] - 127s 3ms/step - loss: 0.0013 - val_loss: 0.0015\n",
      "Epoch 48/200\n",
      "48000/48000 [==============================] - 125s 3ms/step - loss: 0.0013 - val_loss: 0.0017\n",
      "Epoch 49/200\n",
      "48000/48000 [==============================] - 126s 3ms/step - loss: 0.0013 - val_loss: 0.0013\n",
      "Epoch 50/200\n",
      "48000/48000 [==============================] - 128s 3ms/step - loss: 0.0013 - val_loss: 0.0014\n",
      "Epoch 51/200\n",
      "48000/48000 [==============================] - 125s 3ms/step - loss: 0.0013 - val_loss: 0.0014\n",
      "Epoch 52/200\n",
      "48000/48000 [==============================] - 127s 3ms/step - loss: 0.0013 - val_loss: 0.0016\n",
      "Epoch 53/200\n",
      "48000/48000 [==============================] - 128s 3ms/step - loss: 0.0012 - val_loss: 0.0014\n",
      "Epoch 54/200\n",
      "48000/48000 [==============================] - 132s 3ms/step - loss: 0.0012 - val_loss: 0.0013\n",
      "Epoch 55/200\n",
      "48000/48000 [==============================] - 133s 3ms/step - loss: 0.0012 - val_loss: 0.0014\n",
      "Epoch 56/200\n",
      "48000/48000 [==============================] - 126s 3ms/step - loss: 0.0012 - val_loss: 0.0013\n",
      "Epoch 57/200\n",
      "48000/48000 [==============================] - 126s 3ms/step - loss: 0.0012 - val_loss: 0.0015\n",
      "Epoch 58/200\n",
      "48000/48000 [==============================] - 124s 3ms/step - loss: 0.0012 - val_loss: 0.0015\n",
      "Epoch 59/200\n",
      "48000/48000 [==============================] - 125s 3ms/step - loss: 0.0012 - val_loss: 0.0013\n",
      "Epoch 60/200\n",
      "48000/48000 [==============================] - 125s 3ms/step - loss: 0.0012 - val_loss: 0.0014\n",
      "Epoch 61/200\n",
      "48000/48000 [==============================] - 127s 3ms/step - loss: 0.0012 - val_loss: 0.0013\n",
      "Epoch 62/200\n",
      "48000/48000 [==============================] - 128s 3ms/step - loss: 0.0012 - val_loss: 0.0013\n",
      "Epoch 63/200\n",
      "48000/48000 [==============================] - 125s 3ms/step - loss: 0.0011 - val_loss: 0.0013\n",
      "Epoch 64/200\n",
      "48000/48000 [==============================] - 125s 3ms/step - loss: 0.0011 - val_loss: 0.0013\n",
      "Epoch 65/200\n",
      "48000/48000 [==============================] - 126s 3ms/step - loss: 0.0011 - val_loss: 0.0012\n",
      "Epoch 66/200\n",
      "48000/48000 [==============================] - 126s 3ms/step - loss: 0.0011 - val_loss: 0.0013\n",
      "Epoch 67/200\n",
      "48000/48000 [==============================] - 126s 3ms/step - loss: 0.0011 - val_loss: 0.0012\n",
      "Epoch 68/200\n",
      "48000/48000 [==============================] - 126s 3ms/step - loss: 0.0011 - val_loss: 0.0011\n",
      "Epoch 69/200\n",
      "48000/48000 [==============================] - 125s 3ms/step - loss: 0.0011 - val_loss: 0.0012\n",
      "Epoch 70/200\n",
      "48000/48000 [==============================] - 125s 3ms/step - loss: 0.0011 - val_loss: 0.0012\n",
      "Epoch 71/200\n",
      "48000/48000 [==============================] - 125s 3ms/step - loss: 0.0011 - val_loss: 0.0011\n",
      "Epoch 72/200\n",
      "48000/48000 [==============================] - 126s 3ms/step - loss: 0.0011 - val_loss: 0.0012\n",
      "Epoch 73/200\n",
      "48000/48000 [==============================] - 126s 3ms/step - loss: 0.0011 - val_loss: 0.0012\n",
      "Epoch 74/200\n"
     ]
    },
    {
     "name": "stdout",
     "output_type": "stream",
     "text": [
      "48000/48000 [==============================] - 125s 3ms/step - loss: 0.0011 - val_loss: 0.0013\n",
      "Epoch 75/200\n",
      "48000/48000 [==============================] - 126s 3ms/step - loss: 0.0011 - val_loss: 0.0012\n",
      "Epoch 76/200\n",
      "48000/48000 [==============================] - 127s 3ms/step - loss: 0.0011 - val_loss: 0.0013\n",
      "Epoch 77/200\n",
      "48000/48000 [==============================] - 125s 3ms/step - loss: 0.0010 - val_loss: 0.0013\n",
      "Epoch 78/200\n",
      "48000/48000 [==============================] - 125s 3ms/step - loss: 0.0010 - val_loss: 0.0012\n",
      "Epoch 79/200\n",
      "48000/48000 [==============================] - 126s 3ms/step - loss: 0.0010 - val_loss: 0.0012\n",
      "Epoch 80/200\n",
      "48000/48000 [==============================] - 126s 3ms/step - loss: 0.0010 - val_loss: 0.0012\n",
      "Epoch 81/200\n",
      "48000/48000 [==============================] - 127s 3ms/step - loss: 0.0010 - val_loss: 0.0011\n",
      "Epoch 82/200\n",
      "48000/48000 [==============================] - 126s 3ms/step - loss: 0.0010 - val_loss: 0.0012\n",
      "Epoch 83/200\n",
      "48000/48000 [==============================] - 126s 3ms/step - loss: 0.0010 - val_loss: 0.0011\n",
      "Epoch 84/200\n",
      "48000/48000 [==============================] - 127s 3ms/step - loss: 0.0010 - val_loss: 0.0012\n",
      "Epoch 85/200\n",
      "48000/48000 [==============================] - 127s 3ms/step - loss: 9.9843e-04 - val_loss: 0.0011\n",
      "Epoch 86/200\n",
      "48000/48000 [==============================] - 128s 3ms/step - loss: 9.9479e-04 - val_loss: 0.0013\n",
      "Epoch 87/200\n",
      "48000/48000 [==============================] - 127s 3ms/step - loss: 9.9181e-04 - val_loss: 0.0011\n",
      "Epoch 88/200\n",
      "48000/48000 [==============================] - 128s 3ms/step - loss: 9.8789e-04 - val_loss: 0.0011\n",
      "Epoch 89/200\n",
      "48000/48000 [==============================] - 126s 3ms/step - loss: 9.7976e-04 - val_loss: 0.0012\n",
      "Epoch 90/200\n",
      "48000/48000 [==============================] - 126s 3ms/step - loss: 9.8001e-04 - val_loss: 0.0011\n",
      "Epoch 91/200\n",
      "48000/48000 [==============================] - 128s 3ms/step - loss: 9.6920e-04 - val_loss: 0.0014\n",
      "Epoch 92/200\n",
      "48000/48000 [==============================] - 127s 3ms/step - loss: 9.6683e-04 - val_loss: 0.0013\n",
      "Epoch 93/200\n",
      "48000/48000 [==============================] - 127s 3ms/step - loss: 9.6512e-04 - val_loss: 0.0011\n",
      "Epoch 94/200\n",
      "48000/48000 [==============================] - 125s 3ms/step - loss: 9.5673e-04 - val_loss: 0.0011\n",
      "Epoch 95/200\n",
      "48000/48000 [==============================] - 126s 3ms/step - loss: 9.5854e-04 - val_loss: 0.0011\n",
      "Epoch 96/200\n",
      "48000/48000 [==============================] - 128s 3ms/step - loss: 9.5238e-04 - val_loss: 0.0011\n",
      "Epoch 97/200\n",
      "48000/48000 [==============================] - 125s 3ms/step - loss: 9.4484e-04 - val_loss: 0.0013\n",
      "Epoch 98/200\n",
      "48000/48000 [==============================] - 127s 3ms/step - loss: 9.4183e-04 - val_loss: 0.0012\n",
      "Epoch 99/200\n",
      "48000/48000 [==============================] - 126s 3ms/step - loss: 9.3986e-04 - val_loss: 0.0012\n",
      "Epoch 100/200\n",
      "48000/48000 [==============================] - 127s 3ms/step - loss: 9.3256e-04 - val_loss: 0.0011\n",
      "Epoch 101/200\n",
      "48000/48000 [==============================] - 126s 3ms/step - loss: 9.2875e-04 - val_loss: 0.0010\n",
      "Epoch 102/200\n",
      "48000/48000 [==============================] - 126s 3ms/step - loss: 9.2471e-04 - val_loss: 0.0010\n",
      "Epoch 103/200\n",
      "48000/48000 [==============================] - 125s 3ms/step - loss: 9.2084e-04 - val_loss: 0.0011\n",
      "Epoch 104/200\n",
      "48000/48000 [==============================] - 125s 3ms/step - loss: 9.1656e-04 - val_loss: 0.0011\n",
      "Epoch 105/200\n",
      "48000/48000 [==============================] - 125s 3ms/step - loss: 9.1377e-04 - val_loss: 0.0011\n",
      "Epoch 106/200\n",
      "48000/48000 [==============================] - 127s 3ms/step - loss: 9.0599e-04 - val_loss: 0.0011\n",
      "Epoch 107/200\n",
      "48000/48000 [==============================] - 127s 3ms/step - loss: 9.0647e-04 - val_loss: 0.0011\n",
      "Epoch 108/200\n",
      "48000/48000 [==============================] - 127s 3ms/step - loss: 9.0344e-04 - val_loss: 0.0011\n",
      "Epoch 109/200\n",
      "48000/48000 [==============================] - 126s 3ms/step - loss: 9.0186e-04 - val_loss: 0.0012\n",
      "Epoch 110/200\n",
      "48000/48000 [==============================] - 126s 3ms/step - loss: 8.9773e-04 - val_loss: 0.0010\n",
      "Epoch 111/200\n",
      "48000/48000 [==============================] - 126s 3ms/step - loss: 8.9282e-04 - val_loss: 0.0012\n",
      "Epoch 112/200\n",
      "48000/48000 [==============================] - 126s 3ms/step - loss: 8.8928e-04 - val_loss: 0.0012\n",
      "Epoch 113/200\n",
      "48000/48000 [==============================] - 125s 3ms/step - loss: 8.9025e-04 - val_loss: 0.0011\n",
      "Epoch 114/200\n",
      "48000/48000 [==============================] - 126s 3ms/step - loss: 8.8172e-04 - val_loss: 0.0011\n",
      "Epoch 115/200\n",
      "48000/48000 [==============================] - 126s 3ms/step - loss: 8.7948e-04 - val_loss: 0.0010\n",
      "Epoch 116/200\n",
      "48000/48000 [==============================] - 126s 3ms/step - loss: 8.7841e-04 - val_loss: 0.0011\n",
      "Epoch 117/200\n",
      "48000/48000 [==============================] - 125s 3ms/step - loss: 8.7393e-04 - val_loss: 0.0011\n",
      "Epoch 118/200\n",
      "48000/48000 [==============================] - 126s 3ms/step - loss: 8.7367e-04 - val_loss: 0.0011\n",
      "Epoch 119/200\n",
      "48000/48000 [==============================] - 126s 3ms/step - loss: 8.6744e-04 - val_loss: 0.0011\n",
      "Epoch 120/200\n",
      "48000/48000 [==============================] - 126s 3ms/step - loss: 8.6512e-04 - val_loss: 0.0011\n",
      "Epoch 121/200\n",
      "48000/48000 [==============================] - 124s 3ms/step - loss: 8.6078e-04 - val_loss: 0.0012\n",
      "Epoch 122/200\n",
      "48000/48000 [==============================] - 126s 3ms/step - loss: 8.5562e-04 - val_loss: 0.0012\n",
      "Epoch 123/200\n",
      "48000/48000 [==============================] - 125s 3ms/step - loss: 8.5524e-04 - val_loss: 0.0011\n",
      "Epoch 124/200\n",
      "48000/48000 [==============================] - 125s 3ms/step - loss: 8.5256e-04 - val_loss: 0.0011\n",
      "Epoch 125/200\n",
      "48000/48000 [==============================] - 124s 3ms/step - loss: 8.4700e-04 - val_loss: 0.0010\n",
      "Epoch 126/200\n",
      "48000/48000 [==============================] - 125s 3ms/step - loss: 8.4637e-04 - val_loss: 0.0010\n",
      "Epoch 127/200\n",
      "48000/48000 [==============================] - 125s 3ms/step - loss: 8.4342e-04 - val_loss: 0.0011\n",
      "Epoch 128/200\n",
      "48000/48000 [==============================] - 126s 3ms/step - loss: 8.3963e-04 - val_loss: 0.0011\n",
      "Epoch 129/200\n",
      "48000/48000 [==============================] - 125s 3ms/step - loss: 8.3804e-04 - val_loss: 0.0012\n",
      "Epoch 130/200\n",
      "48000/48000 [==============================] - 125s 3ms/step - loss: 8.3229e-04 - val_loss: 0.0011\n",
      "Epoch 131/200\n",
      "48000/48000 [==============================] - 126s 3ms/step - loss: 8.3170e-04 - val_loss: 0.0010\n",
      "Epoch 132/200\n",
      "48000/48000 [==============================] - 126s 3ms/step - loss: 8.3160e-04 - val_loss: 0.0010\n",
      "Epoch 133/200\n",
      "48000/48000 [==============================] - 125s 3ms/step - loss: 8.2545e-04 - val_loss: 0.0011\n",
      "Epoch 134/200\n",
      "48000/48000 [==============================] - 125s 3ms/step - loss: 8.2522e-04 - val_loss: 0.0010\n",
      "Epoch 135/200\n",
      "48000/48000 [==============================] - 126s 3ms/step - loss: 8.2475e-04 - val_loss: 0.0010\n",
      "Epoch 136/200\n",
      "48000/48000 [==============================] - 125s 3ms/step - loss: 8.1733e-04 - val_loss: 0.0011\n",
      "Epoch 137/200\n",
      "48000/48000 [==============================] - 126s 3ms/step - loss: 8.1533e-04 - val_loss: 9.8073e-04\n",
      "Epoch 138/200\n",
      "48000/48000 [==============================] - 126s 3ms/step - loss: 8.1205e-04 - val_loss: 9.6584e-04\n",
      "Epoch 139/200\n",
      "48000/48000 [==============================] - 125s 3ms/step - loss: 8.1203e-04 - val_loss: 0.0010\n",
      "Epoch 140/200\n",
      "48000/48000 [==============================] - 125s 3ms/step - loss: 8.0456e-04 - val_loss: 9.8750e-04\n",
      "Epoch 141/200\n",
      "48000/48000 [==============================] - 125s 3ms/step - loss: 8.0588e-04 - val_loss: 0.0010\n",
      "Epoch 142/200\n",
      "48000/48000 [==============================] - 124s 3ms/step - loss: 8.0303e-04 - val_loss: 0.0011\n",
      "Epoch 143/200\n",
      "48000/48000 [==============================] - 126s 3ms/step - loss: 8.0472e-04 - val_loss: 0.0011\n",
      "Epoch 144/200\n",
      "48000/48000 [==============================] - 126s 3ms/step - loss: 8.0367e-04 - val_loss: 9.6514e-04\n",
      "Epoch 145/200\n",
      "48000/48000 [==============================] - 126s 3ms/step - loss: 7.9917e-04 - val_loss: 0.0010\n",
      "Epoch 146/200\n",
      "48000/48000 [==============================] - 126s 3ms/step - loss: 7.9293e-04 - val_loss: 0.0013\n",
      "Epoch 147/200\n"
     ]
    },
    {
     "name": "stdout",
     "output_type": "stream",
     "text": [
      "48000/48000 [==============================] - 126s 3ms/step - loss: 7.9405e-04 - val_loss: 0.0010\n",
      "Epoch 148/200\n",
      "48000/48000 [==============================] - 124s 3ms/step - loss: 7.9263e-04 - val_loss: 0.0010\n",
      "Epoch 149/200\n",
      "48000/48000 [==============================] - 125s 3ms/step - loss: 7.9089e-04 - val_loss: 0.0011\n",
      "Epoch 150/200\n",
      "48000/48000 [==============================] - 124s 3ms/step - loss: 7.8486e-04 - val_loss: 0.0010\n",
      "Epoch 151/200\n",
      "48000/48000 [==============================] - 125s 3ms/step - loss: 7.8283e-04 - val_loss: 9.7705e-04\n",
      "Epoch 152/200\n",
      "48000/48000 [==============================] - 125s 3ms/step - loss: 7.7783e-04 - val_loss: 0.0010\n",
      "Epoch 153/200\n",
      "48000/48000 [==============================] - 125s 3ms/step - loss: 7.7981e-04 - val_loss: 0.0010\n",
      "Epoch 154/200\n",
      "48000/48000 [==============================] - 126s 3ms/step - loss: 7.7919e-04 - val_loss: 0.0011\n",
      "Epoch 155/200\n",
      "48000/48000 [==============================] - 126s 3ms/step - loss: 7.7586e-04 - val_loss: 9.5858e-04\n",
      "Epoch 156/200\n",
      "48000/48000 [==============================] - 125s 3ms/step - loss: 7.7354e-04 - val_loss: 9.8304e-04\n",
      "Epoch 157/200\n",
      "48000/48000 [==============================] - 126s 3ms/step - loss: 7.6972e-04 - val_loss: 9.4935e-04\n",
      "Epoch 158/200\n",
      "48000/48000 [==============================] - 124s 3ms/step - loss: 7.6988e-04 - val_loss: 0.0011\n",
      "Epoch 159/200\n",
      "48000/48000 [==============================] - 125s 3ms/step - loss: 7.6893e-04 - val_loss: 9.9108e-04\n",
      "Epoch 160/200\n",
      "48000/48000 [==============================] - 126s 3ms/step - loss: 7.6624e-04 - val_loss: 9.7591e-04\n",
      "Epoch 161/200\n",
      "48000/48000 [==============================] - 124s 3ms/step - loss: 7.6294e-04 - val_loss: 0.0010\n",
      "Epoch 162/200\n",
      "48000/48000 [==============================] - 125s 3ms/step - loss: 7.6400e-04 - val_loss: 0.0011\n",
      "Epoch 163/200\n",
      "48000/48000 [==============================] - 125s 3ms/step - loss: 7.6241e-04 - val_loss: 9.8219e-04\n",
      "Epoch 164/200\n",
      "48000/48000 [==============================] - 124s 3ms/step - loss: 7.5832e-04 - val_loss: 9.9681e-04\n",
      "Epoch 165/200\n",
      "48000/48000 [==============================] - 124s 3ms/step - loss: 7.5708e-04 - val_loss: 9.2528e-04\n",
      "Epoch 166/200\n",
      "48000/48000 [==============================] - 125s 3ms/step - loss: 7.5458e-04 - val_loss: 9.7861e-04\n",
      "Epoch 167/200\n",
      "48000/48000 [==============================] - 126s 3ms/step - loss: 7.5672e-04 - val_loss: 0.0010\n",
      "Epoch 168/200\n",
      "48000/48000 [==============================] - 124s 3ms/step - loss: 7.5167e-04 - val_loss: 9.5570e-04\n",
      "Epoch 169/200\n",
      "48000/48000 [==============================] - 126s 3ms/step - loss: 7.5202e-04 - val_loss: 9.2048e-04\n",
      "Epoch 170/200\n",
      "48000/48000 [==============================] - 126s 3ms/step - loss: 7.4881e-04 - val_loss: 0.0010\n",
      "Epoch 171/200\n",
      "48000/48000 [==============================] - 124s 3ms/step - loss: 7.4666e-04 - val_loss: 9.9083e-04\n",
      "Epoch 172/200\n",
      "48000/48000 [==============================] - 126s 3ms/step - loss: 7.4591e-04 - val_loss: 0.0010\n",
      "Epoch 173/200\n",
      "48000/48000 [==============================] - 125s 3ms/step - loss: 7.4356e-04 - val_loss: 9.3819e-04\n",
      "Epoch 174/200\n",
      "48000/48000 [==============================] - 126s 3ms/step - loss: 7.4403e-04 - val_loss: 9.0714e-04\n",
      "Epoch 175/200\n",
      "48000/48000 [==============================] - 124s 3ms/step - loss: 7.4353e-04 - val_loss: 9.8696e-04\n",
      "Epoch 176/200\n",
      "48000/48000 [==============================] - 128s 3ms/step - loss: 7.3956e-04 - val_loss: 9.4335e-04\n",
      "Epoch 177/200\n",
      "48000/48000 [==============================] - 129s 3ms/step - loss: 7.3780e-04 - val_loss: 9.0179e-04\n",
      "Epoch 178/200\n",
      "48000/48000 [==============================] - 125s 3ms/step - loss: 7.3395e-04 - val_loss: 9.3534e-04\n",
      "Epoch 179/200\n",
      "48000/48000 [==============================] - 126s 3ms/step - loss: 7.3148e-04 - val_loss: 8.9973e-04\n",
      "Epoch 180/200\n",
      "48000/48000 [==============================] - 124s 3ms/step - loss: 7.3348e-04 - val_loss: 9.9698e-04\n",
      "Epoch 181/200\n",
      "48000/48000 [==============================] - 127s 3ms/step - loss: 7.2921e-04 - val_loss: 9.5718e-04\n",
      "Epoch 182/200\n",
      "48000/48000 [==============================] - 124s 3ms/step - loss: 7.2939e-04 - val_loss: 9.2664e-04\n",
      "Epoch 183/200\n",
      "48000/48000 [==============================] - 124s 3ms/step - loss: 7.2684e-04 - val_loss: 9.4600e-04\n",
      "Epoch 184/200\n",
      "48000/48000 [==============================] - 126s 3ms/step - loss: 7.2930e-04 - val_loss: 9.8192e-04\n",
      "Epoch 185/200\n",
      "48000/48000 [==============================] - 125s 3ms/step - loss: 7.2323e-04 - val_loss: 9.7910e-04\n",
      "Epoch 186/200\n",
      "48000/48000 [==============================] - 125s 3ms/step - loss: 7.2225e-04 - val_loss: 9.5592e-04\n",
      "Epoch 187/200\n",
      "48000/48000 [==============================] - 128s 3ms/step - loss: 7.2153e-04 - val_loss: 0.0010\n",
      "Epoch 188/200\n",
      "48000/48000 [==============================] - 127s 3ms/step - loss: 7.2107e-04 - val_loss: 9.3995e-04\n",
      "Epoch 189/200\n",
      "48000/48000 [==============================] - 127s 3ms/step - loss: 7.1888e-04 - val_loss: 9.9207e-04\n",
      "Epoch 190/200\n",
      "48000/48000 [==============================] - 124s 3ms/step - loss: 7.1397e-04 - val_loss: 9.2839e-04\n",
      "Epoch 191/200\n",
      "48000/48000 [==============================] - 127s 3ms/step - loss: 7.1340e-04 - val_loss: 9.7921e-04\n",
      "Epoch 192/200\n",
      "48000/48000 [==============================] - 125s 3ms/step - loss: 7.1445e-04 - val_loss: 0.0010\n",
      "Epoch 193/200\n",
      "48000/48000 [==============================] - 127s 3ms/step - loss: 7.1142e-04 - val_loss: 0.0010\n",
      "Epoch 194/200\n",
      "48000/48000 [==============================] - 125s 3ms/step - loss: 7.1044e-04 - val_loss: 9.5380e-04\n",
      "Epoch 195/200\n",
      "48000/48000 [==============================] - 127s 3ms/step - loss: 7.1175e-04 - val_loss: 9.0624e-04\n",
      "Epoch 196/200\n",
      "48000/48000 [==============================] - 126s 3ms/step - loss: 7.1035e-04 - val_loss: 8.9187e-04\n",
      "Epoch 197/200\n",
      "48000/48000 [==============================] - 125s 3ms/step - loss: 7.0589e-04 - val_loss: 9.3068e-04\n",
      "Epoch 198/200\n",
      "48000/48000 [==============================] - 124s 3ms/step - loss: 7.0428e-04 - val_loss: 9.0240e-04\n",
      "Epoch 199/200\n",
      "48000/48000 [==============================] - 125s 3ms/step - loss: 7.0402e-04 - val_loss: 9.0443e-04\n",
      "Epoch 200/200\n",
      "48000/48000 [==============================] - 124s 3ms/step - loss: 7.0308e-04 - val_loss: 9.1585e-04\n"
     ]
    }
   ],
   "source": [
    "# Train using keras fit function.\n",
    "\n",
    "autoencoder_train = autoencoder.fit(train_X,\n",
    "                                    train_ground,\n",
    "                                    batch_size=batch_size,\n",
    "                                    epochs=epochs,\n",
    "                                    verbose=1,\n",
    "                                    validation_data=(valid_X, valid_ground))"
   ]
  },
  {
   "cell_type": "code",
   "execution_count": 20,
   "metadata": {
    "ExecuteTime": {
     "end_time": "2020-01-09T16:33:11.272259Z",
     "start_time": "2020-01-09T16:33:10.990679Z"
    }
   },
   "outputs": [
    {
     "data": {
      "image/png": "[encoded data removed]",
      "text/plain": [
       "<Figure size 432x288 with 1 Axes>"
      ]
     },
     "metadata": {
      "needs_background": "light"
     },
     "output_type": "display_data"
    }
   ],
   "source": [
    "loss = autoencoder_train.history['loss']\n",
    "val_loss = autoencoder_train.history['val_loss']\n",
    "epochs = range(200)\n",
    "plt.figure()\n",
    "plt.plot(epochs, loss, label='Training loss')\n",
    "plt.plot(epochs, val_loss, label='Validation loss')\n",
    "plt.title('Training and validation loss')\n",
    "plt.legend()\n",
    "plt.show()"
   ]
  },
  {
   "cell_type": "code",
   "execution_count": 21,
   "metadata": {
    "ExecuteTime": {
     "end_time": "2020-01-09T16:33:12.250996Z",
     "start_time": "2020-01-09T16:33:11.273731Z"
    }
   },
   "outputs": [],
   "source": [
    "autoencoder.save_weights('autoencoder.h5')"
   ]
  },
  {
   "cell_type": "markdown",
   "metadata": {},
   "source": [
    "## Segmenting The Fashion MNIST Images"
   ]
  },
  {
   "cell_type": "markdown",
   "metadata": {},
   "source": [
    "**Convert the labels into one-hot encoding**"
   ]
  },
  {
   "cell_type": "code",
   "execution_count": 22,
   "metadata": {
    "ExecuteTime": {
     "end_time": "2020-01-09T16:33:12.258028Z",
     "start_time": "2020-01-09T16:33:12.252706Z"
    }
   },
   "outputs": [
    {
     "name": "stdout",
     "output_type": "stream",
     "text": [
      "Original label: 9\n",
      "After conversion to one-hot: [0. 0. 0. 0. 0. 0. 0. 0. 0. 1.]\n"
     ]
    }
   ],
   "source": [
    "train_Y_one_hot = to_categorical(train_labels)\n",
    "test_Y_one_hot = to_categorical(test_labels)\n",
    "\n",
    "# Display the change for category label using one-hot encoding\n",
    "print('Original label:', train_labels[0])\n",
    "print('After conversion to one-hot:', train_Y_one_hot[0])"
   ]
  },
  {
   "cell_type": "markdown",
   "metadata": {},
   "source": [
    "Split the data set into training and testing sets, but this time pass the labels too, because of classification task."
   ]
  },
  {
   "cell_type": "code",
   "execution_count": 23,
   "metadata": {
    "ExecuteTime": {
     "end_time": "2020-01-09T16:33:12.370171Z",
     "start_time": "2020-01-09T16:33:12.260168Z"
    }
   },
   "outputs": [],
   "source": [
    "train_X, valid_X, train_label, valid_label = train_test_split(train_data,\n",
    "                                                              train_Y_one_hot,\n",
    "                                                              test_size=0.2,\n",
    "                                                              random_state=13)"
   ]
  },
  {
   "cell_type": "code",
   "execution_count": 24,
   "metadata": {
    "ExecuteTime": {
     "end_time": "2020-01-09T16:33:12.375696Z",
     "start_time": "2020-01-09T16:33:12.371883Z"
    }
   },
   "outputs": [
    {
     "data": {
      "text/plain": [
       "((48000, 28, 28, 1), (12000, 28, 28, 1), (48000, 10), (12000, 10))"
      ]
     },
     "execution_count": 24,
     "metadata": {},
     "output_type": "execute_result"
    }
   ],
   "source": [
    "train_X.shape, valid_X.shape, train_label.shape, valid_label.shape"
   ]
  },
  {
   "cell_type": "markdown",
   "metadata": {},
   "source": [
    "# Classification Model"
   ]
  },
  {
   "cell_type": "markdown",
   "metadata": {},
   "source": [
    "## Encoder Part"
   ]
  },
  {
   "cell_type": "markdown",
   "metadata": {},
   "source": [
    "**Will be using the exact same encoder part as used in the Autoencoder architecture.**"
   ]
  },
  {
   "cell_type": "code",
   "execution_count": 25,
   "metadata": {
    "ExecuteTime": {
     "end_time": "2020-01-09T16:33:12.382432Z",
     "start_time": "2020-01-09T16:33:12.377138Z"
    }
   },
   "outputs": [],
   "source": [
    "def encoder(input_img):\n",
    "    #encoder\n",
    "    #input = 28 x 28 x 1 (wide and thin)\n",
    "    conv1 = Conv2D(32, (3, 3), activation='relu', padding='same')(input_img) #28 x 28 x 32\n",
    "    conv1 = BatchNormalization()(conv1)\n",
    "    conv1 = Conv2D(32, (3, 3), activation='relu', padding='same')(conv1)\n",
    "    conv1 = BatchNormalization()(conv1)\n",
    "    pool1 = MaxPooling2D(pool_size=(2, 2))(conv1) #14 x 14 x 32\n",
    "    conv2 = Conv2D(64, (3, 3), activation='relu', padding='same')(pool1) #14 x 14 x 64\n",
    "    conv2 = BatchNormalization()(conv2)\n",
    "    conv2 = Conv2D(64, (3, 3), activation='relu', padding='same')(conv2)\n",
    "    conv2 = BatchNormalization()(conv2)\n",
    "    pool2 = MaxPooling2D(pool_size=(2, 2))(conv2) #7 x 7 x 64\n",
    "    conv3 = Conv2D(128, (3, 3), activation='relu', padding='same')(pool2) #7 x 7 x 128 (small and thick)\n",
    "    conv3 = BatchNormalization()(conv3)\n",
    "    conv3 = Conv2D(128, (3, 3), activation='relu', padding='same')(conv3)\n",
    "    conv3 = BatchNormalization()(conv3)\n",
    "    conv4 = Conv2D(256, (3, 3), activation='relu', padding='same')(conv3) #7 x 7 x 256 (small and thick)\n",
    "    conv4 = BatchNormalization()(conv4)\n",
    "    conv4 = Conv2D(256, (3, 3), activation='relu', padding='same')(conv4)\n",
    "    conv4 = BatchNormalization()(conv4)\n",
    "    return conv4"
   ]
  },
  {
   "cell_type": "markdown",
   "metadata": {},
   "source": [
    "## Fully Connected Layers"
   ]
  },
  {
   "cell_type": "markdown",
   "metadata": {},
   "source": [
    "**Defining fully connected layers that we will be stacking up with the encoder function.**"
   ]
  },
  {
   "cell_type": "code",
   "execution_count": 26,
   "metadata": {
    "ExecuteTime": {
     "end_time": "2020-01-09T16:33:12.386486Z",
     "start_time": "2020-01-09T16:33:12.383853Z"
    }
   },
   "outputs": [],
   "source": [
    "def fc(enco):\n",
    "    flat = Flatten()(enco)\n",
    "    den = Dense(128, activation='relu')(flat)\n",
    "    out = Dense(num_classes, activation='softmax')(den)\n",
    "    return out"
   ]
  },
  {
   "cell_type": "code",
   "execution_count": 27,
   "metadata": {
    "ExecuteTime": {
     "end_time": "2020-01-09T16:33:12.942836Z",
     "start_time": "2020-01-09T16:33:12.387903Z"
    }
   },
   "outputs": [],
   "source": [
    "encode = encoder(input_img)\n",
    "full_model = Model(input_img,fc(encode))"
   ]
  },
  {
   "cell_type": "code",
   "execution_count": 28,
   "metadata": {
    "ExecuteTime": {
     "end_time": "2020-01-09T16:33:16.120527Z",
     "start_time": "2020-01-09T16:33:12.944509Z"
    }
   },
   "outputs": [],
   "source": [
    "for l1,l2 in zip(full_model.layers[:19],autoencoder.layers[0:19]):\n",
    "    l1.set_weights(l2.get_weights())"
   ]
  },
  {
   "cell_type": "markdown",
   "metadata": {},
   "source": [
    "**Note :-** The next step is pretty important. In order to be sure whether the weights of the encoder part of the autoencoder are similar to the weights you loaded to the encoder function of the classification model, you should always print any one of the same layers weights of both the models. If they are not similar, then there is no use in using the autoencoder classification strategy."
   ]
  },
  {
   "cell_type": "code",
   "execution_count": 29,
   "metadata": {
    "ExecuteTime": {
     "end_time": "2020-01-09T16:33:16.380996Z",
     "start_time": "2020-01-09T16:33:16.122563Z"
    }
   },
   "outputs": [
    {
     "data": {
      "text/plain": [
       "array([[[ True,  True,  True,  True,  True,  True,  True,  True,  True,\n",
       "          True,  True,  True,  True,  True,  True,  True,  True,  True,\n",
       "          True,  True,  True,  True,  True,  True,  True,  True,  True,\n",
       "          True,  True,  True,  True,  True]],\n",
       "\n",
       "       [[ True,  True,  True,  True,  True,  True,  True,  True,  True,\n",
       "          True,  True,  True,  True,  True,  True,  True,  True,  True,\n",
       "          True,  True,  True,  True,  True,  True,  True,  True,  True,\n",
       "          True,  True,  True,  True,  True]],\n",
       "\n",
       "       [[ True,  True,  True,  True,  True,  True,  True,  True,  True,\n",
       "          True,  True,  True,  True,  True,  True,  True,  True,  True,\n",
       "          True,  True,  True,  True,  True,  True,  True,  True,  True,\n",
       "          True,  True,  True,  True,  True]]])"
      ]
     },
     "execution_count": 29,
     "metadata": {},
     "output_type": "execute_result"
    }
   ],
   "source": [
    "# Checking if the weights are equal for both models.\n",
    "\n",
    "autoencoder.get_weights()[0][1] == full_model.get_weights()[0][1]"
   ]
  },
  {
   "cell_type": "markdown",
   "metadata": {},
   "source": [
    "Both the arrays look exactly similar.\n",
    "\n",
    "Next we will make the encoder part i.e. the first 19 layers of the model trainable false. Since the encoder part is already trained, we do not need to train it. We will only be training the fully connected part."
   ]
  },
  {
   "cell_type": "code",
   "execution_count": 30,
   "metadata": {
    "ExecuteTime": {
     "end_time": "2020-01-09T16:33:16.385160Z",
     "start_time": "2020-01-09T16:33:16.382664Z"
    }
   },
   "outputs": [],
   "source": [
    "# Setting first 19 layers trainable false.\n",
    "for layer in full_model.layers[0:19]:\n",
    "    layer.trainable = False"
   ]
  },
  {
   "cell_type": "markdown",
   "metadata": {},
   "source": [
    "## Compiling the Model"
   ]
  },
  {
   "cell_type": "code",
   "execution_count": 31,
   "metadata": {
    "ExecuteTime": {
     "end_time": "2020-01-09T16:33:16.450031Z",
     "start_time": "2020-01-09T16:33:16.386605Z"
    }
   },
   "outputs": [],
   "source": [
    "# Compiling the model\n",
    "full_model.compile(loss=keras.losses.categorical_crossentropy, optimizer=keras.optimizers.Adam(),metrics=['accuracy'])"
   ]
  },
  {
   "cell_type": "code",
   "execution_count": 32,
   "metadata": {
    "ExecuteTime": {
     "end_time": "2020-01-09T16:33:16.461741Z",
     "start_time": "2020-01-09T16:33:16.451802Z"
    }
   },
   "outputs": [
    {
     "name": "stdout",
     "output_type": "stream",
     "text": [
      "Model: \"model_2\"\n",
      "_________________________________________________________________\n",
      "Layer (type)                 Output Shape              Param #   \n",
      "=================================================================\n",
      "input_1 (InputLayer)         (None, 28, 28, 1)         0         \n",
      "_________________________________________________________________\n",
      "conv2d_16 (Conv2D)           (None, 28, 28, 32)        320       \n",
      "_________________________________________________________________\n",
      "batch_normalization_15 (Batc (None, 28, 28, 32)        128       \n",
      "_________________________________________________________________\n",
      "conv2d_17 (Conv2D)           (None, 28, 28, 32)        9248      \n",
      "_________________________________________________________________\n",
      "batch_normalization_16 (Batc (None, 28, 28, 32)        128       \n",
      "_________________________________________________________________\n",
      "max_pooling2d_3 (MaxPooling2 (None, 14, 14, 32)        0         \n",
      "_________________________________________________________________\n",
      "conv2d_18 (Conv2D)           (None, 14, 14, 64)        18496     \n",
      "_________________________________________________________________\n",
      "batch_normalization_17 (Batc (None, 14, 14, 64)        256       \n",
      "_________________________________________________________________\n",
      "conv2d_19 (Conv2D)           (None, 14, 14, 64)        36928     \n",
      "_________________________________________________________________\n",
      "batch_normalization_18 (Batc (None, 14, 14, 64)        256       \n",
      "_________________________________________________________________\n",
      "max_pooling2d_4 (MaxPooling2 (None, 7, 7, 64)          0         \n",
      "_________________________________________________________________\n",
      "conv2d_20 (Conv2D)           (None, 7, 7, 128)         73856     \n",
      "_________________________________________________________________\n",
      "batch_normalization_19 (Batc (None, 7, 7, 128)         512       \n",
      "_________________________________________________________________\n",
      "conv2d_21 (Conv2D)           (None, 7, 7, 128)         147584    \n",
      "_________________________________________________________________\n",
      "batch_normalization_20 (Batc (None, 7, 7, 128)         512       \n",
      "_________________________________________________________________\n",
      "conv2d_22 (Conv2D)           (None, 7, 7, 256)         295168    \n",
      "_________________________________________________________________\n",
      "batch_normalization_21 (Batc (None, 7, 7, 256)         1024      \n",
      "_________________________________________________________________\n",
      "conv2d_23 (Conv2D)           (None, 7, 7, 256)         590080    \n",
      "_________________________________________________________________\n",
      "batch_normalization_22 (Batc (None, 7, 7, 256)         1024      \n",
      "_________________________________________________________________\n",
      "flatten_1 (Flatten)          (None, 12544)             0         \n",
      "_________________________________________________________________\n",
      "dense_1 (Dense)              (None, 128)               1605760   \n",
      "_________________________________________________________________\n",
      "dense_2 (Dense)              (None, 10)                1290      \n",
      "=================================================================\n",
      "Total params: 2,782,570\n",
      "Trainable params: 1,607,050\n",
      "Non-trainable params: 1,175,520\n",
      "_________________________________________________________________\n"
     ]
    }
   ],
   "source": [
    "# Printing model summary.\n",
    "full_model.summary()"
   ]
  },
  {
   "cell_type": "markdown",
   "metadata": {},
   "source": [
    "## Train the Model"
   ]
  },
  {
   "cell_type": "markdown",
   "metadata": {},
   "source": [
    "Train the model with Keras' fit() function! The model trains for 10 epochs. The fit() function will return a history object; By storing the result of this function in fashion_train, we can use it later to plot the accuracy and loss function plots between training and validation which will help to analyze your model's performance visually."
   ]
  },
  {
   "cell_type": "code",
   "execution_count": 33,
   "metadata": {
    "ExecuteTime": {
     "end_time": "2020-01-09T17:39:37.863298Z",
     "start_time": "2020-01-09T16:33:16.463184Z"
    }
   },
   "outputs": [
    {
     "name": "stdout",
     "output_type": "stream",
     "text": [
      "Train on 48000 samples, validate on 12000 samples\n",
      "Epoch 1/100\n",
      "48000/48000 [==============================] - 40s 838us/step - loss: 0.3729 - accuracy: 0.8706 - val_loss: 0.2850 - val_accuracy: 0.8985\n",
      "Epoch 2/100\n",
      "48000/48000 [==============================] - 40s 836us/step - loss: 0.2308 - accuracy: 0.9165 - val_loss: 0.2948 - val_accuracy: 0.9007\n",
      "Epoch 3/100\n",
      "48000/48000 [==============================] - 41s 845us/step - loss: 0.1860 - accuracy: 0.9305 - val_loss: 0.2935 - val_accuracy: 0.9044\n",
      "Epoch 4/100\n",
      "48000/48000 [==============================] - 40s 836us/step - loss: 0.1597 - accuracy: 0.9398 - val_loss: 0.2942 - val_accuracy: 0.9065\n",
      "Epoch 5/100\n",
      "48000/48000 [==============================] - 40s 824us/step - loss: 0.1389 - accuracy: 0.9481 - val_loss: 0.3523 - val_accuracy: 0.8945\n",
      "Epoch 6/100\n",
      "48000/48000 [==============================] - 40s 831us/step - loss: 0.1200 - accuracy: 0.9549 - val_loss: 0.3528 - val_accuracy: 0.9032\n",
      "Epoch 7/100\n",
      "48000/48000 [==============================] - 40s 842us/step - loss: 0.1068 - accuracy: 0.9597 - val_loss: 0.3365 - val_accuracy: 0.9088\n",
      "Epoch 8/100\n",
      "48000/48000 [==============================] - 40s 825us/step - loss: 0.0940 - accuracy: 0.9650 - val_loss: 0.3558 - val_accuracy: 0.9050\n",
      "Epoch 9/100\n",
      "48000/48000 [==============================] - 40s 833us/step - loss: 0.0855 - accuracy: 0.9679 - val_loss: 0.3889 - val_accuracy: 0.9103\n",
      "Epoch 10/100\n",
      "48000/48000 [==============================] - 40s 834us/step - loss: 0.0780 - accuracy: 0.9710 - val_loss: 0.4143 - val_accuracy: 0.9047\n",
      "Epoch 11/100\n",
      "48000/48000 [==============================] - 40s 835us/step - loss: 0.0650 - accuracy: 0.9757 - val_loss: 0.4151 - val_accuracy: 0.9066\n",
      "Epoch 12/100\n",
      "48000/48000 [==============================] - 40s 824us/step - loss: 0.0686 - accuracy: 0.9754 - val_loss: 0.4289 - val_accuracy: 0.9103\n",
      "Epoch 13/100\n",
      "48000/48000 [==============================] - 41s 845us/step - loss: 0.0554 - accuracy: 0.9797 - val_loss: 0.4937 - val_accuracy: 0.8982\n",
      "Epoch 14/100\n",
      "48000/48000 [==============================] - 40s 839us/step - loss: 0.0543 - accuracy: 0.9799 - val_loss: 0.4756 - val_accuracy: 0.9093\n",
      "Epoch 15/100\n",
      "48000/48000 [==============================] - 41s 861us/step - loss: 0.0497 - accuracy: 0.9819 - val_loss: 0.4950 - val_accuracy: 0.9109\n",
      "Epoch 16/100\n",
      "48000/48000 [==============================] - 40s 824us/step - loss: 0.0513 - accuracy: 0.9819 - val_loss: 0.4990 - val_accuracy: 0.9122\n",
      "Epoch 17/100\n",
      "48000/48000 [==============================] - 40s 834us/step - loss: 0.0387 - accuracy: 0.9860 - val_loss: 0.5724 - val_accuracy: 0.9023\n",
      "Epoch 18/100\n",
      "48000/48000 [==============================] - 40s 827us/step - loss: 0.0367 - accuracy: 0.9869 - val_loss: 0.5347 - val_accuracy: 0.9093\n",
      "Epoch 19/100\n",
      "48000/48000 [==============================] - 41s 846us/step - loss: 0.0419 - accuracy: 0.9853 - val_loss: 0.5915 - val_accuracy: 0.9115\n",
      "Epoch 20/100\n",
      "48000/48000 [==============================] - 40s 837us/step - loss: 0.0341 - accuracy: 0.9877 - val_loss: 0.6416 - val_accuracy: 0.9059\n",
      "Epoch 21/100\n",
      "48000/48000 [==============================] - 40s 835us/step - loss: 0.0427 - accuracy: 0.9849 - val_loss: 0.6078 - val_accuracy: 0.9072\n",
      "Epoch 22/100\n",
      "48000/48000 [==============================] - 40s 835us/step - loss: 0.0334 - accuracy: 0.9885 - val_loss: 0.6465 - val_accuracy: 0.9093\n",
      "Epoch 23/100\n",
      "48000/48000 [==============================] - 40s 827us/step - loss: 0.0291 - accuracy: 0.9900 - val_loss: 0.6351 - val_accuracy: 0.9081\n",
      "Epoch 24/100\n",
      "48000/48000 [==============================] - 40s 828us/step - loss: 0.0256 - accuracy: 0.9909 - val_loss: 0.6409 - val_accuracy: 0.9109\n",
      "Epoch 25/100\n",
      "48000/48000 [==============================] - 39s 822us/step - loss: 0.0325 - accuracy: 0.9890 - val_loss: 0.6408 - val_accuracy: 0.9108\n",
      "Epoch 26/100\n",
      "48000/48000 [==============================] - 39s 818us/step - loss: 0.0327 - accuracy: 0.9890 - val_loss: 0.7107 - val_accuracy: 0.9087\n",
      "Epoch 27/100\n",
      "48000/48000 [==============================] - 40s 825us/step - loss: 0.0218 - accuracy: 0.9923 - val_loss: 0.6909 - val_accuracy: 0.9072\n",
      "Epoch 28/100\n",
      "48000/48000 [==============================] - 40s 829us/step - loss: 0.0272 - accuracy: 0.9908 - val_loss: 0.6911 - val_accuracy: 0.9117\n",
      "Epoch 29/100\n",
      "48000/48000 [==============================] - 40s 834us/step - loss: 0.0347 - accuracy: 0.9885 - val_loss: 0.6913 - val_accuracy: 0.9104\n",
      "Epoch 30/100\n",
      "48000/48000 [==============================] - 40s 835us/step - loss: 0.0229 - accuracy: 0.9921 - val_loss: 0.7870 - val_accuracy: 0.9067\n",
      "Epoch 31/100\n",
      "48000/48000 [==============================] - 40s 824us/step - loss: 0.0206 - accuracy: 0.9929 - val_loss: 0.7476 - val_accuracy: 0.9091\n",
      "Epoch 32/100\n",
      "48000/48000 [==============================] - 41s 849us/step - loss: 0.0268 - accuracy: 0.9908 - val_loss: 0.7211 - val_accuracy: 0.9132\n",
      "Epoch 33/100\n",
      "48000/48000 [==============================] - 40s 836us/step - loss: 0.0261 - accuracy: 0.9919 - val_loss: 0.7886 - val_accuracy: 0.9092\n",
      "Epoch 34/100\n",
      "48000/48000 [==============================] - 39s 814us/step - loss: 0.0252 - accuracy: 0.9917 - val_loss: 0.7601 - val_accuracy: 0.9098\n",
      "Epoch 35/100\n",
      "48000/48000 [==============================] - 40s 831us/step - loss: 0.0253 - accuracy: 0.9920 - val_loss: 0.8513 - val_accuracy: 0.9038\n",
      "Epoch 36/100\n",
      "48000/48000 [==============================] - 40s 828us/step - loss: 0.0193 - accuracy: 0.9937 - val_loss: 0.7784 - val_accuracy: 0.9099\n",
      "Epoch 37/100\n",
      "48000/48000 [==============================] - 39s 822us/step - loss: 0.0246 - accuracy: 0.9922 - val_loss: 0.8030 - val_accuracy: 0.9127\n",
      "Epoch 38/100\n",
      "48000/48000 [==============================] - 40s 834us/step - loss: 0.0158 - accuracy: 0.9949 - val_loss: 0.7902 - val_accuracy: 0.9125\n",
      "Epoch 39/100\n",
      "48000/48000 [==============================] - 41s 847us/step - loss: 0.0209 - accuracy: 0.9929 - val_loss: 0.8963 - val_accuracy: 0.9084\n",
      "Epoch 40/100\n",
      "48000/48000 [==============================] - 40s 825us/step - loss: 0.0245 - accuracy: 0.9919 - val_loss: 0.9144 - val_accuracy: 0.9082\n",
      "Epoch 41/100\n",
      "48000/48000 [==============================] - 40s 827us/step - loss: 0.0154 - accuracy: 0.9951 - val_loss: 0.9146 - val_accuracy: 0.9100\n",
      "Epoch 42/100\n",
      "48000/48000 [==============================] - 39s 820us/step - loss: 0.0217 - accuracy: 0.9935 - val_loss: 0.8654 - val_accuracy: 0.9121\n",
      "Epoch 43/100\n",
      "48000/48000 [==============================] - 39s 823us/step - loss: 0.0217 - accuracy: 0.9931 - val_loss: 0.9706 - val_accuracy: 0.9093\n",
      "Epoch 44/100\n",
      "48000/48000 [==============================] - 39s 813us/step - loss: 0.0166 - accuracy: 0.9949 - val_loss: 0.9210 - val_accuracy: 0.9090\n",
      "Epoch 45/100\n",
      "48000/48000 [==============================] - 39s 818us/step - loss: 0.0139 - accuracy: 0.9956 - val_loss: 0.9295 - val_accuracy: 0.9093\n",
      "Epoch 46/100\n",
      "48000/48000 [==============================] - 40s 827us/step - loss: 0.0261 - accuracy: 0.9925 - val_loss: 0.8839 - val_accuracy: 0.9097\n",
      "Epoch 47/100\n",
      "48000/48000 [==============================] - 40s 832us/step - loss: 0.0219 - accuracy: 0.9934 - val_loss: 0.8796 - val_accuracy: 0.9062\n",
      "Epoch 48/100\n",
      "48000/48000 [==============================] - 40s 826us/step - loss: 0.0143 - accuracy: 0.9960 - val_loss: 1.0018 - val_accuracy: 0.9037\n",
      "Epoch 49/100\n",
      "48000/48000 [==============================] - 40s 827us/step - loss: 0.0180 - accuracy: 0.9944 - val_loss: 0.9481 - val_accuracy: 0.9111\n",
      "Epoch 50/100\n",
      "48000/48000 [==============================] - 39s 822us/step - loss: 0.0186 - accuracy: 0.9941 - val_loss: 0.9137 - val_accuracy: 0.9106\n",
      "Epoch 51/100\n",
      "48000/48000 [==============================] - 40s 825us/step - loss: 0.0221 - accuracy: 0.9936 - val_loss: 0.9926 - val_accuracy: 0.9111\n",
      "Epoch 52/100\n",
      "48000/48000 [==============================] - 40s 831us/step - loss: 0.0173 - accuracy: 0.9949 - val_loss: 1.0338 - val_accuracy: 0.9068\n",
      "Epoch 53/100\n",
      "48000/48000 [==============================] - 40s 829us/step - loss: 0.0145 - accuracy: 0.9957 - val_loss: 0.9550 - val_accuracy: 0.9083\n",
      "Epoch 54/100\n",
      "48000/48000 [==============================] - 40s 827us/step - loss: 0.0150 - accuracy: 0.9952 - val_loss: 1.0641 - val_accuracy: 0.9082\n"
     ]
    },
    {
     "name": "stdout",
     "output_type": "stream",
     "text": [
      "Epoch 55/100\n",
      "48000/48000 [==============================] - 39s 821us/step - loss: 0.0228 - accuracy: 0.9934 - val_loss: 0.9992 - val_accuracy: 0.9087\n",
      "Epoch 56/100\n",
      "48000/48000 [==============================] - 39s 823us/step - loss: 0.0129 - accuracy: 0.9961 - val_loss: 1.0429 - val_accuracy: 0.9066\n",
      "Epoch 57/100\n",
      "48000/48000 [==============================] - 39s 815us/step - loss: 0.0115 - accuracy: 0.9962 - val_loss: 1.0294 - val_accuracy: 0.9112\n",
      "Epoch 58/100\n",
      "48000/48000 [==============================] - 39s 819us/step - loss: 0.0183 - accuracy: 0.9949 - val_loss: 1.0479 - val_accuracy: 0.9111\n",
      "Epoch 59/100\n",
      "48000/48000 [==============================] - 39s 819us/step - loss: 0.0198 - accuracy: 0.9944 - val_loss: 1.0079 - val_accuracy: 0.9095\n",
      "Epoch 60/100\n",
      "48000/48000 [==============================] - 39s 821us/step - loss: 0.0136 - accuracy: 0.9960 - val_loss: 1.0483 - val_accuracy: 0.9098\n",
      "Epoch 61/100\n",
      "48000/48000 [==============================] - 40s 823us/step - loss: 0.0156 - accuracy: 0.9956 - val_loss: 1.1330 - val_accuracy: 0.9067\n",
      "Epoch 62/100\n",
      "48000/48000 [==============================] - 39s 817us/step - loss: 0.0176 - accuracy: 0.9944 - val_loss: 1.1147 - val_accuracy: 0.9113\n",
      "Epoch 63/100\n",
      "48000/48000 [==============================] - 39s 820us/step - loss: 0.0106 - accuracy: 0.9972 - val_loss: 1.0876 - val_accuracy: 0.9078\n",
      "Epoch 64/100\n",
      "48000/48000 [==============================] - 39s 818us/step - loss: 0.0122 - accuracy: 0.9964 - val_loss: 1.2279 - val_accuracy: 0.9098\n",
      "Epoch 65/100\n",
      "48000/48000 [==============================] - 39s 819us/step - loss: 0.0152 - accuracy: 0.9959 - val_loss: 1.1126 - val_accuracy: 0.9097\n",
      "Epoch 66/100\n",
      "48000/48000 [==============================] - 40s 827us/step - loss: 0.0146 - accuracy: 0.9955 - val_loss: 1.1004 - val_accuracy: 0.9099\n",
      "Epoch 67/100\n",
      "48000/48000 [==============================] - 39s 821us/step - loss: 0.0169 - accuracy: 0.9951 - val_loss: 1.1481 - val_accuracy: 0.9095\n",
      "Epoch 68/100\n",
      "48000/48000 [==============================] - 39s 819us/step - loss: 0.0196 - accuracy: 0.9942 - val_loss: 1.1352 - val_accuracy: 0.9098\n",
      "Epoch 69/100\n",
      "48000/48000 [==============================] - 40s 825us/step - loss: 0.0127 - accuracy: 0.9960 - val_loss: 1.2858 - val_accuracy: 0.9075\n",
      "Epoch 70/100\n",
      "48000/48000 [==============================] - 40s 829us/step - loss: 0.0151 - accuracy: 0.9958 - val_loss: 1.1474 - val_accuracy: 0.9089\n",
      "Epoch 71/100\n",
      "48000/48000 [==============================] - 39s 815us/step - loss: 0.0134 - accuracy: 0.9962 - val_loss: 1.1554 - val_accuracy: 0.9116\n",
      "Epoch 72/100\n",
      "48000/48000 [==============================] - 40s 824us/step - loss: 0.0102 - accuracy: 0.9972 - val_loss: 1.1969 - val_accuracy: 0.9103\n",
      "Epoch 73/100\n",
      "48000/48000 [==============================] - 39s 821us/step - loss: 0.0147 - accuracy: 0.9961 - val_loss: 1.1936 - val_accuracy: 0.9061\n",
      "Epoch 74/100\n",
      "48000/48000 [==============================] - 39s 819us/step - loss: 0.0186 - accuracy: 0.9945 - val_loss: 1.1333 - val_accuracy: 0.9095\n",
      "Epoch 75/100\n",
      "48000/48000 [==============================] - 40s 827us/step - loss: 0.0102 - accuracy: 0.9969 - val_loss: 1.2147 - val_accuracy: 0.9095\n",
      "Epoch 76/100\n",
      "48000/48000 [==============================] - 40s 837us/step - loss: 0.0115 - accuracy: 0.9967 - val_loss: 1.2685 - val_accuracy: 0.9085\n",
      "Epoch 77/100\n",
      "48000/48000 [==============================] - 39s 821us/step - loss: 0.0201 - accuracy: 0.9947 - val_loss: 1.1185 - val_accuracy: 0.9138\n",
      "Epoch 78/100\n",
      "48000/48000 [==============================] - 40s 827us/step - loss: 0.0135 - accuracy: 0.9960 - val_loss: 1.1999 - val_accuracy: 0.9077\n",
      "Epoch 79/100\n",
      "48000/48000 [==============================] - 39s 822us/step - loss: 0.0077 - accuracy: 0.9977 - val_loss: 1.3203 - val_accuracy: 0.9081\n",
      "Epoch 80/100\n",
      "48000/48000 [==============================] - 39s 817us/step - loss: 0.0168 - accuracy: 0.9956 - val_loss: 1.2684 - val_accuracy: 0.9090\n",
      "Epoch 81/100\n",
      "48000/48000 [==============================] - 40s 834us/step - loss: 0.0162 - accuracy: 0.9958 - val_loss: 1.2383 - val_accuracy: 0.9100\n",
      "Epoch 82/100\n",
      "48000/48000 [==============================] - 39s 821us/step - loss: 0.0119 - accuracy: 0.9966 - val_loss: 1.3981 - val_accuracy: 0.9048\n",
      "Epoch 83/100\n",
      "48000/48000 [==============================] - 40s 823us/step - loss: 0.0122 - accuracy: 0.9962 - val_loss: 1.2959 - val_accuracy: 0.9081\n",
      "Epoch 84/100\n",
      "48000/48000 [==============================] - 40s 840us/step - loss: 0.0102 - accuracy: 0.9968 - val_loss: 1.2572 - val_accuracy: 0.9143\n",
      "Epoch 85/100\n",
      "48000/48000 [==============================] - 41s 846us/step - loss: 0.0133 - accuracy: 0.9965 - val_loss: 1.2812 - val_accuracy: 0.9109\n",
      "Epoch 86/100\n",
      "48000/48000 [==============================] - 40s 831us/step - loss: 0.0178 - accuracy: 0.9956 - val_loss: 1.2836 - val_accuracy: 0.9114\n",
      "Epoch 87/100\n",
      "48000/48000 [==============================] - 40s 831us/step - loss: 0.0135 - accuracy: 0.9963 - val_loss: 1.3776 - val_accuracy: 0.9101\n",
      "Epoch 88/100\n",
      "48000/48000 [==============================] - 40s 841us/step - loss: 0.0145 - accuracy: 0.9964 - val_loss: 1.4360 - val_accuracy: 0.9103\n",
      "Epoch 89/100\n",
      "48000/48000 [==============================] - 40s 824us/step - loss: 0.0134 - accuracy: 0.9965 - val_loss: 1.2642 - val_accuracy: 0.9101\n",
      "Epoch 90/100\n",
      "48000/48000 [==============================] - 40s 826us/step - loss: 0.0094 - accuracy: 0.9975 - val_loss: 1.2742 - val_accuracy: 0.9065\n",
      "Epoch 91/100\n",
      "48000/48000 [==============================] - 40s 836us/step - loss: 0.0132 - accuracy: 0.9966 - val_loss: 1.3075 - val_accuracy: 0.9125\n",
      "Epoch 92/100\n",
      "48000/48000 [==============================] - 40s 837us/step - loss: 0.0112 - accuracy: 0.9967 - val_loss: 1.3917 - val_accuracy: 0.9083\n",
      "Epoch 93/100\n",
      "48000/48000 [==============================] - 41s 849us/step - loss: 0.0158 - accuracy: 0.9962 - val_loss: 1.4512 - val_accuracy: 0.9124\n",
      "Epoch 94/100\n",
      "48000/48000 [==============================] - 41s 849us/step - loss: 0.0097 - accuracy: 0.9973 - val_loss: 1.3570 - val_accuracy: 0.9095\n",
      "Epoch 95/100\n",
      "48000/48000 [==============================] - 40s 838us/step - loss: 0.0138 - accuracy: 0.9965 - val_loss: 1.3877 - val_accuracy: 0.9114\n",
      "Epoch 96/100\n",
      "48000/48000 [==============================] - 40s 838us/step - loss: 0.0129 - accuracy: 0.9968 - val_loss: 1.4061 - val_accuracy: 0.9108\n",
      "Epoch 97/100\n",
      "48000/48000 [==============================] - 39s 823us/step - loss: 0.0114 - accuracy: 0.9971 - val_loss: 1.3820 - val_accuracy: 0.9094\n",
      "Epoch 98/100\n",
      "48000/48000 [==============================] - 40s 834us/step - loss: 0.0124 - accuracy: 0.9961 - val_loss: 1.3785 - val_accuracy: 0.9107\n",
      "Epoch 99/100\n",
      "48000/48000 [==============================] - 40s 825us/step - loss: 0.0111 - accuracy: 0.9967 - val_loss: 1.4376 - val_accuracy: 0.9115\n",
      "Epoch 100/100\n",
      "48000/48000 [==============================] - 41s 850us/step - loss: 0.0077 - accuracy: 0.9976 - val_loss: 1.3499 - val_accuracy: 0.9122\n"
     ]
    }
   ],
   "source": [
    "classify_train = full_model.fit(train_X, train_label, batch_size=64,epochs=100,verbose=1,validation_data=(valid_X, valid_label))"
   ]
  },
  {
   "cell_type": "markdown",
   "metadata": {},
   "source": [
    "Now re-train the model by keeping the first 19 layers as trainable True."
   ]
  },
  {
   "cell_type": "code",
   "execution_count": 34,
   "metadata": {
    "ExecuteTime": {
     "end_time": "2020-01-09T17:39:37.867811Z",
     "start_time": "2020-01-09T17:39:37.865192Z"
    }
   },
   "outputs": [],
   "source": [
    "for layer in full_model.layers[0:19]:\n",
    "    layer.trainable = True"
   ]
  },
  {
   "cell_type": "code",
   "execution_count": 35,
   "metadata": {
    "ExecuteTime": {
     "end_time": "2020-01-09T17:39:37.945081Z",
     "start_time": "2020-01-09T17:39:37.869304Z"
    }
   },
   "outputs": [],
   "source": [
    "full_model.compile(loss=keras.losses.categorical_crossentropy, optimizer=keras.optimizers.Adam(),metrics=['accuracy'])"
   ]
  },
  {
   "cell_type": "code",
   "execution_count": 36,
   "metadata": {
    "ExecuteTime": {
     "end_time": "2020-01-09T20:22:15.906872Z",
     "start_time": "2020-01-09T17:39:37.946988Z"
    },
    "scrolled": true
   },
   "outputs": [
    {
     "name": "stdout",
     "output_type": "stream",
     "text": [
      "Train on 48000 samples, validate on 12000 samples\n",
      "Epoch 1/100\n",
      "48000/48000 [==============================] - 100s 2ms/step - loss: 0.2017 - accuracy: 0.9650 - val_loss: 1.0362 - val_accuracy: 0.8979\n",
      "Epoch 2/100\n",
      "48000/48000 [==============================] - 97s 2ms/step - loss: 0.1083 - accuracy: 0.9737 - val_loss: 0.9235 - val_accuracy: 0.8994\n",
      "Epoch 3/100\n",
      "48000/48000 [==============================] - 98s 2ms/step - loss: 0.0918 - accuracy: 0.9769 - val_loss: 0.9247 - val_accuracy: 0.9018\n",
      "Epoch 4/100\n",
      "48000/48000 [==============================] - 98s 2ms/step - loss: 0.0659 - accuracy: 0.9808 - val_loss: 0.8841 - val_accuracy: 0.9068\n",
      "Epoch 5/100\n",
      "48000/48000 [==============================] - 98s 2ms/step - loss: 0.0619 - accuracy: 0.9832 - val_loss: 0.7071 - val_accuracy: 0.8970\n",
      "Epoch 6/100\n",
      "48000/48000 [==============================] - 98s 2ms/step - loss: 0.0616 - accuracy: 0.9817 - val_loss: 0.7162 - val_accuracy: 0.9091\n",
      "Epoch 7/100\n",
      "48000/48000 [==============================] - 98s 2ms/step - loss: 0.0692 - accuracy: 0.9805 - val_loss: 0.7219 - val_accuracy: 0.9096\n",
      "Epoch 8/100\n",
      "48000/48000 [==============================] - 98s 2ms/step - loss: 0.0536 - accuracy: 0.9837 - val_loss: 0.7313 - val_accuracy: 0.9042\n",
      "Epoch 9/100\n",
      "48000/48000 [==============================] - 97s 2ms/step - loss: 0.0454 - accuracy: 0.9861 - val_loss: 0.6423 - val_accuracy: 0.9128\n",
      "Epoch 10/100\n",
      "48000/48000 [==============================] - 97s 2ms/step - loss: 0.0507 - accuracy: 0.9843 - val_loss: 0.7322 - val_accuracy: 0.9099\n",
      "Epoch 11/100\n",
      "48000/48000 [==============================] - 98s 2ms/step - loss: 0.0425 - accuracy: 0.9870 - val_loss: 0.7251 - val_accuracy: 0.9049\n",
      "Epoch 12/100\n",
      "48000/48000 [==============================] - 98s 2ms/step - loss: 0.0395 - accuracy: 0.9874 - val_loss: 0.6888 - val_accuracy: 0.9142\n",
      "Epoch 13/100\n",
      "48000/48000 [==============================] - 97s 2ms/step - loss: 0.0354 - accuracy: 0.9895 - val_loss: 0.6793 - val_accuracy: 0.9049\n",
      "Epoch 14/100\n",
      "48000/48000 [==============================] - 98s 2ms/step - loss: 0.0467 - accuracy: 0.9865 - val_loss: 0.7351 - val_accuracy: 0.9001\n",
      "Epoch 15/100\n",
      "48000/48000 [==============================] - 98s 2ms/step - loss: 0.0458 - accuracy: 0.9868 - val_loss: 0.7190 - val_accuracy: 0.9131\n",
      "Epoch 16/100\n",
      "48000/48000 [==============================] - 97s 2ms/step - loss: 0.0287 - accuracy: 0.9915 - val_loss: 0.6313 - val_accuracy: 0.9157\n",
      "Epoch 17/100\n",
      "48000/48000 [==============================] - 97s 2ms/step - loss: 0.0316 - accuracy: 0.9904 - val_loss: 0.7254 - val_accuracy: 0.9122\n",
      "Epoch 18/100\n",
      "48000/48000 [==============================] - 99s 2ms/step - loss: 0.0299 - accuracy: 0.9905 - val_loss: 0.6964 - val_accuracy: 0.9147\n",
      "Epoch 19/100\n",
      "48000/48000 [==============================] - 98s 2ms/step - loss: 0.0331 - accuracy: 0.9905 - val_loss: 0.7330 - val_accuracy: 0.9086\n",
      "Epoch 20/100\n",
      "48000/48000 [==============================] - 97s 2ms/step - loss: 0.0321 - accuracy: 0.9906 - val_loss: 0.6927 - val_accuracy: 0.9133\n",
      "Epoch 21/100\n",
      "48000/48000 [==============================] - 97s 2ms/step - loss: 0.0266 - accuracy: 0.9926 - val_loss: 0.7349 - val_accuracy: 0.9164\n",
      "Epoch 22/100\n",
      "48000/48000 [==============================] - 98s 2ms/step - loss: 0.0263 - accuracy: 0.9925 - val_loss: 0.7313 - val_accuracy: 0.9121\n",
      "Epoch 23/100\n",
      "48000/48000 [==============================] - 97s 2ms/step - loss: 0.0299 - accuracy: 0.9916 - val_loss: 0.6659 - val_accuracy: 0.9122\n",
      "Epoch 24/100\n",
      "48000/48000 [==============================] - 97s 2ms/step - loss: 0.0215 - accuracy: 0.9932 - val_loss: 0.7482 - val_accuracy: 0.9143\n",
      "Epoch 25/100\n",
      "48000/48000 [==============================] - 97s 2ms/step - loss: 0.0229 - accuracy: 0.9929 - val_loss: 0.7617 - val_accuracy: 0.9187\n",
      "Epoch 26/100\n",
      "48000/48000 [==============================] - 97s 2ms/step - loss: 0.0267 - accuracy: 0.9918 - val_loss: 0.7627 - val_accuracy: 0.9103\n",
      "Epoch 27/100\n",
      "48000/48000 [==============================] - 98s 2ms/step - loss: 0.0208 - accuracy: 0.9939 - val_loss: 0.6988 - val_accuracy: 0.9144\n",
      "Epoch 28/100\n",
      "48000/48000 [==============================] - 97s 2ms/step - loss: 0.0214 - accuracy: 0.9936 - val_loss: 0.7545 - val_accuracy: 0.9156\n",
      "Epoch 29/100\n",
      "48000/48000 [==============================] - 97s 2ms/step - loss: 0.0197 - accuracy: 0.9942 - val_loss: 0.8723 - val_accuracy: 0.9209\n",
      "Epoch 30/100\n",
      "48000/48000 [==============================] - 98s 2ms/step - loss: 0.0244 - accuracy: 0.9925 - val_loss: 0.7280 - val_accuracy: 0.9154\n",
      "Epoch 31/100\n",
      "48000/48000 [==============================] - 99s 2ms/step - loss: 0.0184 - accuracy: 0.9945 - val_loss: 0.8529 - val_accuracy: 0.9139\n",
      "Epoch 32/100\n",
      "48000/48000 [==============================] - 99s 2ms/step - loss: 0.0222 - accuracy: 0.9935 - val_loss: 0.7801 - val_accuracy: 0.9147\n",
      "Epoch 33/100\n",
      "48000/48000 [==============================] - 98s 2ms/step - loss: 0.0210 - accuracy: 0.9936 - val_loss: 0.7882 - val_accuracy: 0.9144\n",
      "Epoch 34/100\n",
      "48000/48000 [==============================] - 99s 2ms/step - loss: 0.0240 - accuracy: 0.9932 - val_loss: 0.8446 - val_accuracy: 0.9128\n",
      "Epoch 35/100\n",
      "48000/48000 [==============================] - 98s 2ms/step - loss: 0.0164 - accuracy: 0.9950 - val_loss: 0.8247 - val_accuracy: 0.9157\n",
      "Epoch 36/100\n",
      "48000/48000 [==============================] - 97s 2ms/step - loss: 0.0176 - accuracy: 0.9949 - val_loss: 0.7407 - val_accuracy: 0.9158\n",
      "Epoch 37/100\n",
      "48000/48000 [==============================] - 97s 2ms/step - loss: 0.0157 - accuracy: 0.9952 - val_loss: 0.7717 - val_accuracy: 0.9186\n",
      "Epoch 38/100\n",
      "48000/48000 [==============================] - 97s 2ms/step - loss: 0.0238 - accuracy: 0.9935 - val_loss: 0.7728 - val_accuracy: 0.9193\n",
      "Epoch 39/100\n",
      "48000/48000 [==============================] - 96s 2ms/step - loss: 0.0158 - accuracy: 0.9954 - val_loss: 0.8154 - val_accuracy: 0.9222\n",
      "Epoch 40/100\n",
      "48000/48000 [==============================] - 98s 2ms/step - loss: 0.0128 - accuracy: 0.9965 - val_loss: 0.8251 - val_accuracy: 0.9202\n",
      "Epoch 41/100\n",
      "48000/48000 [==============================] - 96s 2ms/step - loss: 0.0166 - accuracy: 0.9960 - val_loss: 0.7765 - val_accuracy: 0.9151\n",
      "Epoch 42/100\n",
      "48000/48000 [==============================] - 99s 2ms/step - loss: 0.0194 - accuracy: 0.9944 - val_loss: 0.8199 - val_accuracy: 0.9162\n",
      "Epoch 43/100\n",
      "48000/48000 [==============================] - 97s 2ms/step - loss: 0.0204 - accuracy: 0.9948 - val_loss: 0.8143 - val_accuracy: 0.9191\n",
      "Epoch 44/100\n",
      "48000/48000 [==============================] - 97s 2ms/step - loss: 0.0203 - accuracy: 0.9948 - val_loss: 0.7998 - val_accuracy: 0.9208\n",
      "Epoch 45/100\n",
      "48000/48000 [==============================] - 97s 2ms/step - loss: 0.0113 - accuracy: 0.9969 - val_loss: 0.7988 - val_accuracy: 0.9198\n",
      "Epoch 46/100\n",
      "48000/48000 [==============================] - 98s 2ms/step - loss: 0.0117 - accuracy: 0.9964 - val_loss: 0.7678 - val_accuracy: 0.9165\n",
      "Epoch 47/100\n",
      "48000/48000 [==============================] - 97s 2ms/step - loss: 0.0184 - accuracy: 0.9950 - val_loss: 0.8196 - val_accuracy: 0.9176\n",
      "Epoch 48/100\n",
      "48000/48000 [==============================] - 97s 2ms/step - loss: 0.0103 - accuracy: 0.9969 - val_loss: 0.8128 - val_accuracy: 0.9184\n",
      "Epoch 49/100\n",
      "48000/48000 [==============================] - 97s 2ms/step - loss: 0.0118 - accuracy: 0.9965 - val_loss: 0.8203 - val_accuracy: 0.9176\n",
      "Epoch 50/100\n",
      "48000/48000 [==============================] - 98s 2ms/step - loss: 0.0181 - accuracy: 0.9948 - val_loss: 1.1714 - val_accuracy: 0.9186\n",
      "Epoch 51/100\n",
      "48000/48000 [==============================] - 98s 2ms/step - loss: 0.0198 - accuracy: 0.9953 - val_loss: 0.7841 - val_accuracy: 0.9200\n",
      "Epoch 52/100\n",
      "48000/48000 [==============================] - 97s 2ms/step - loss: 0.0135 - accuracy: 0.9962 - val_loss: 0.8320 - val_accuracy: 0.9226\n",
      "Epoch 53/100\n",
      "48000/48000 [==============================] - 99s 2ms/step - loss: 0.0165 - accuracy: 0.9957 - val_loss: 0.8321 - val_accuracy: 0.9187\n",
      "Epoch 54/100\n",
      "48000/48000 [==============================] - 99s 2ms/step - loss: 0.0108 - accuracy: 0.9970 - val_loss: 0.9043 - val_accuracy: 0.9196\n",
      "Epoch 55/100\n"
     ]
    },
    {
     "name": "stdout",
     "output_type": "stream",
     "text": [
      "48000/48000 [==============================] - 98s 2ms/step - loss: 0.0083 - accuracy: 0.9975 - val_loss: 0.8454 - val_accuracy: 0.9224\n",
      "Epoch 56/100\n",
      "48000/48000 [==============================] - 97s 2ms/step - loss: 0.0151 - accuracy: 0.9955 - val_loss: 1.5486 - val_accuracy: 0.9154\n",
      "Epoch 57/100\n",
      "48000/48000 [==============================] - 97s 2ms/step - loss: 0.0147 - accuracy: 0.9959 - val_loss: 2.0552 - val_accuracy: 0.9197\n",
      "Epoch 58/100\n",
      "48000/48000 [==============================] - 97s 2ms/step - loss: 0.0074 - accuracy: 0.9976 - val_loss: 3.5288 - val_accuracy: 0.9119\n",
      "Epoch 59/100\n",
      "48000/48000 [==============================] - 96s 2ms/step - loss: 0.0176 - accuracy: 0.9960 - val_loss: 1.1691 - val_accuracy: 0.9139\n",
      "Epoch 60/100\n",
      "48000/48000 [==============================] - 98s 2ms/step - loss: 0.0120 - accuracy: 0.9969 - val_loss: 1.3712 - val_accuracy: 0.9228\n",
      "Epoch 61/100\n",
      "48000/48000 [==============================] - 97s 2ms/step - loss: 0.0083 - accuracy: 0.9973 - val_loss: 1.1884 - val_accuracy: 0.9200\n",
      "Epoch 62/100\n",
      "48000/48000 [==============================] - 97s 2ms/step - loss: 0.0101 - accuracy: 0.9970 - val_loss: 1.3000 - val_accuracy: 0.9208\n",
      "Epoch 63/100\n",
      "48000/48000 [==============================] - 97s 2ms/step - loss: 0.0105 - accuracy: 0.9971 - val_loss: 1.0782 - val_accuracy: 0.9171\n",
      "Epoch 64/100\n",
      "48000/48000 [==============================] - 97s 2ms/step - loss: 0.0152 - accuracy: 0.9963 - val_loss: 1.2835 - val_accuracy: 0.9183\n",
      "Epoch 65/100\n",
      "48000/48000 [==============================] - 97s 2ms/step - loss: 0.0154 - accuracy: 0.9960 - val_loss: 1.0123 - val_accuracy: 0.9184\n",
      "Epoch 66/100\n",
      "48000/48000 [==============================] - 99s 2ms/step - loss: 0.0091 - accuracy: 0.9975 - val_loss: 0.8792 - val_accuracy: 0.9200\n",
      "Epoch 67/100\n",
      "48000/48000 [==============================] - 98s 2ms/step - loss: 0.0094 - accuracy: 0.9974 - val_loss: 0.9765 - val_accuracy: 0.9195\n",
      "Epoch 68/100\n",
      "48000/48000 [==============================] - 97s 2ms/step - loss: 0.0112 - accuracy: 0.9968 - val_loss: 1.3569 - val_accuracy: 0.9202\n",
      "Epoch 69/100\n",
      "48000/48000 [==============================] - 98s 2ms/step - loss: 0.0091 - accuracy: 0.9975 - val_loss: 1.2268 - val_accuracy: 0.9200\n",
      "Epoch 70/100\n",
      "48000/48000 [==============================] - 97s 2ms/step - loss: 0.0082 - accuracy: 0.9978 - val_loss: 1.3178 - val_accuracy: 0.9233\n",
      "Epoch 71/100\n",
      "48000/48000 [==============================] - 99s 2ms/step - loss: 0.0086 - accuracy: 0.9979 - val_loss: 1.3471 - val_accuracy: 0.9187\n",
      "Epoch 72/100\n",
      "48000/48000 [==============================] - 98s 2ms/step - loss: 0.0148 - accuracy: 0.9959 - val_loss: 1.4544 - val_accuracy: 0.9142\n",
      "Epoch 73/100\n",
      "48000/48000 [==============================] - 97s 2ms/step - loss: 0.0124 - accuracy: 0.9967 - val_loss: 0.9704 - val_accuracy: 0.9220\n",
      "Epoch 74/100\n",
      "48000/48000 [==============================] - 97s 2ms/step - loss: 0.0096 - accuracy: 0.9971 - val_loss: 0.8054 - val_accuracy: 0.9186\n",
      "Epoch 75/100\n",
      "48000/48000 [==============================] - 97s 2ms/step - loss: 0.0079 - accuracy: 0.9978 - val_loss: 0.9295 - val_accuracy: 0.9229\n",
      "Epoch 76/100\n",
      "48000/48000 [==============================] - 98s 2ms/step - loss: 0.0110 - accuracy: 0.9977 - val_loss: 1.1755 - val_accuracy: 0.9209\n",
      "Epoch 77/100\n",
      "48000/48000 [==============================] - 98s 2ms/step - loss: 0.0078 - accuracy: 0.9977 - val_loss: 1.9569 - val_accuracy: 0.9193\n",
      "Epoch 78/100\n",
      "48000/48000 [==============================] - 98s 2ms/step - loss: 0.0118 - accuracy: 0.9968 - val_loss: 0.7804 - val_accuracy: 0.9206\n",
      "Epoch 79/100\n",
      "48000/48000 [==============================] - 97s 2ms/step - loss: 0.0059 - accuracy: 0.9981 - val_loss: 0.8276 - val_accuracy: 0.9231\n",
      "Epoch 80/100\n",
      "48000/48000 [==============================] - 97s 2ms/step - loss: 0.0108 - accuracy: 0.9971 - val_loss: 0.8739 - val_accuracy: 0.9237\n",
      "Epoch 81/100\n",
      "48000/48000 [==============================] - 97s 2ms/step - loss: 0.0119 - accuracy: 0.9972 - val_loss: 0.8824 - val_accuracy: 0.9159\n",
      "Epoch 82/100\n",
      "48000/48000 [==============================] - 97s 2ms/step - loss: 0.0114 - accuracy: 0.9971 - val_loss: 0.8466 - val_accuracy: 0.9186\n",
      "Epoch 83/100\n",
      "48000/48000 [==============================] - 97s 2ms/step - loss: 0.0099 - accuracy: 0.9974 - val_loss: 0.8419 - val_accuracy: 0.9202\n",
      "Epoch 84/100\n",
      "48000/48000 [==============================] - 98s 2ms/step - loss: 0.0051 - accuracy: 0.9984 - val_loss: 0.8759 - val_accuracy: 0.9235\n",
      "Epoch 85/100\n",
      "48000/48000 [==============================] - 98s 2ms/step - loss: 0.0048 - accuracy: 0.9985 - val_loss: 1.0592 - val_accuracy: 0.9187\n",
      "Epoch 86/100\n",
      "48000/48000 [==============================] - 97s 2ms/step - loss: 0.0134 - accuracy: 0.9965 - val_loss: 0.8242 - val_accuracy: 0.9193\n",
      "Epoch 87/100\n",
      "48000/48000 [==============================] - 98s 2ms/step - loss: 0.0109 - accuracy: 0.9963 - val_loss: 0.8311 - val_accuracy: 0.9243\n",
      "Epoch 88/100\n",
      "48000/48000 [==============================] - 99s 2ms/step - loss: 0.0097 - accuracy: 0.9974 - val_loss: 0.8546 - val_accuracy: 0.9211\n",
      "Epoch 89/100\n",
      "48000/48000 [==============================] - 98s 2ms/step - loss: 0.0139 - accuracy: 0.9969 - val_loss: 0.8283 - val_accuracy: 0.9191\n",
      "Epoch 90/100\n",
      "48000/48000 [==============================] - 97s 2ms/step - loss: 0.0069 - accuracy: 0.9980 - val_loss: 0.9052 - val_accuracy: 0.9249\n",
      "Epoch 91/100\n",
      "48000/48000 [==============================] - 98s 2ms/step - loss: 0.0072 - accuracy: 0.9982 - val_loss: 0.8575 - val_accuracy: 0.9224\n",
      "Epoch 92/100\n",
      "48000/48000 [==============================] - 97s 2ms/step - loss: 0.0091 - accuracy: 0.9976 - val_loss: 0.9401 - val_accuracy: 0.9215\n",
      "Epoch 93/100\n",
      "48000/48000 [==============================] - 97s 2ms/step - loss: 0.0057 - accuracy: 0.9981 - val_loss: 0.9377 - val_accuracy: 0.9237\n",
      "Epoch 94/100\n",
      "48000/48000 [==============================] - 96s 2ms/step - loss: 0.0046 - accuracy: 0.9986 - val_loss: 0.9398 - val_accuracy: 0.9212\n",
      "Epoch 95/100\n",
      "48000/48000 [==============================] - 98s 2ms/step - loss: 0.0106 - accuracy: 0.9967 - val_loss: 2.2142 - val_accuracy: 0.9156\n",
      "Epoch 96/100\n",
      "48000/48000 [==============================] - 97s 2ms/step - loss: 0.0093 - accuracy: 0.9976 - val_loss: 1.5357 - val_accuracy: 0.9237\n",
      "Epoch 97/100\n",
      "48000/48000 [==============================] - 98s 2ms/step - loss: 0.0051 - accuracy: 0.9986 - val_loss: 2.5827 - val_accuracy: 0.9169\n",
      "Epoch 98/100\n",
      "48000/48000 [==============================] - 99s 2ms/step - loss: 0.0071 - accuracy: 0.9980 - val_loss: 1.2012 - val_accuracy: 0.9237\n",
      "Epoch 99/100\n",
      "48000/48000 [==============================] - 97s 2ms/step - loss: 0.0111 - accuracy: 0.9971 - val_loss: 0.9841 - val_accuracy: 0.9217\n",
      "Epoch 100/100\n",
      "48000/48000 [==============================] - 97s 2ms/step - loss: 0.0104 - accuracy: 0.9971 - val_loss: 1.1552 - val_accuracy: 0.9220\n"
     ]
    }
   ],
   "source": [
    "classify_train = full_model.fit(train_X, train_label, batch_size=64,epochs=100,verbose=1,validation_data=(valid_X, valid_label))"
   ]
  },
  {
   "cell_type": "markdown",
   "metadata": {},
   "source": [
    "## Plotting the Training And Validation Results"
   ]
  },
  {
   "cell_type": "code",
   "execution_count": 37,
   "metadata": {
    "ExecuteTime": {
     "end_time": "2020-01-09T20:22:16.428575Z",
     "start_time": "2020-01-09T20:22:15.908667Z"
    },
    "scrolled": true
   },
   "outputs": [
    {
     "data": {
      "image/png": "[encoded data removed]",
      "text/plain": [
       "<Figure size 432x288 with 1 Axes>"
      ]
     },
     "metadata": {
      "needs_background": "light"
     },
     "output_type": "display_data"
    },
    {
     "data": {
      "image/png": "[encoded data removed]",
      "text/plain": [
       "<Figure size 432x288 with 1 Axes>"
      ]
     },
     "metadata": {
      "needs_background": "light"
     },
     "output_type": "display_data"
    }
   ],
   "source": [
    "accuracy = classify_train.history['accuracy']\n",
    "val_accuracy = classify_train.history['val_accuracy']\n",
    "loss = classify_train.history['loss']\n",
    "val_loss = classify_train.history['val_loss']\n",
    "epochs = range(len(accuracy))\n",
    "plt.plot(epochs, accuracy, label='Training accuracy')\n",
    "plt.plot(epochs, val_accuracy, label='Validation accuracy')\n",
    "plt.ylabel('Accuracy')\n",
    "plt.xlabel('Number Of Epochs')\n",
    "plt.title('Training and validation accuracy')\n",
    "plt.legend()\n",
    "plt.figure()\n",
    "plt.plot(epochs, loss, label='Training loss')\n",
    "plt.plot(epochs, val_loss, label='Validation loss')\n",
    "plt.xlabel('Number Of Epochs')\n",
    "plt.ylabel('Loss')\n",
    "plt.title('Training and validation loss')\n",
    "plt.legend()\n",
    "plt.show()"
   ]
  },
  {
   "cell_type": "markdown",
   "metadata": {},
   "source": [
    "Since observing the above two plots we can see that model is overfitting as there is big gap between training and validation accuracy. Also, very much fluctuation between training and validation loss.\n",
    "\n",
    "Address this overfitting by using some regularization technique like Dropout, which I'll use in upcoming sections."
   ]
  },
  {
   "cell_type": "markdown",
   "metadata": {},
   "source": [
    "## Saving The Model"
   ]
  },
  {
   "cell_type": "code",
   "execution_count": 38,
   "metadata": {
    "ExecuteTime": {
     "end_time": "2020-01-09T20:22:16.599964Z",
     "start_time": "2020-01-09T20:22:16.430267Z"
    }
   },
   "outputs": [],
   "source": [
    "full_model.save_weights('classification_complete.h5')"
   ]
  },
  {
   "cell_type": "markdown",
   "metadata": {},
   "source": [
    "## Model Evaluation"
   ]
  },
  {
   "cell_type": "code",
   "execution_count": 39,
   "metadata": {
    "ExecuteTime": {
     "end_time": "2020-01-09T20:22:23.148560Z",
     "start_time": "2020-01-09T20:22:16.601661Z"
    }
   },
   "outputs": [],
   "source": [
    "test_eval = full_model.evaluate(test_data, test_Y_one_hot, verbose=0)"
   ]
  },
  {
   "cell_type": "code",
   "execution_count": 40,
   "metadata": {
    "ExecuteTime": {
     "end_time": "2020-01-09T20:22:23.153770Z",
     "start_time": "2020-01-09T20:22:23.150375Z"
    }
   },
   "outputs": [
    {
     "name": "stdout",
     "output_type": "stream",
     "text": [
      "Test loss: 0.9724919557051116\n",
      "Test accuracy: 0.9203000068664551\n"
     ]
    }
   ],
   "source": [
    "print('Test loss:', test_eval[0])\n",
    "print('Test accuracy:', test_eval[1])"
   ]
  },
  {
   "cell_type": "markdown",
   "metadata": {},
   "source": [
    "## Predict Labels"
   ]
  },
  {
   "cell_type": "code",
   "execution_count": 41,
   "metadata": {
    "ExecuteTime": {
     "end_time": "2020-01-09T20:22:30.096736Z",
     "start_time": "2020-01-09T20:22:23.155488Z"
    }
   },
   "outputs": [],
   "source": [
    "predicted_classes = full_model.predict(test_data)"
   ]
  },
  {
   "cell_type": "code",
   "execution_count": 42,
   "metadata": {
    "ExecuteTime": {
     "end_time": "2020-01-09T20:22:30.102203Z",
     "start_time": "2020-01-09T20:22:30.098395Z"
    }
   },
   "outputs": [
    {
     "data": {
      "text/plain": [
       "array([0.0000000e+00, 3.2848296e-32, 0.0000000e+00, 0.0000000e+00,\n",
       "       0.0000000e+00, 8.4969967e-16, 0.0000000e+00, 1.5935675e-18,\n",
       "       1.3621221e-30, 1.0000000e+00], dtype=float32)"
      ]
     },
     "execution_count": 42,
     "metadata": {},
     "output_type": "execute_result"
    }
   ],
   "source": [
    "predicted_classes[0]"
   ]
  },
  {
   "cell_type": "markdown",
   "metadata": {},
   "source": [
    "Since the predictions here are floating point values, it will not be feasible to compare the predicted labels with true test labels. So, we will round off the output which will convert the float value to an integer. Further, we will use **np.argmax()** to select the index number which has highest value in the row.\n",
    "\n",
    "For example, let's assume a prediction for one test image to be [0 1 0 0 0 0 0 0 0 0], the output for this should be a class label 1."
   ]
  },
  {
   "cell_type": "code",
   "execution_count": 43,
   "metadata": {
    "ExecuteTime": {
     "end_time": "2020-01-09T20:22:30.106090Z",
     "start_time": "2020-01-09T20:22:30.103711Z"
    }
   },
   "outputs": [],
   "source": [
    "predicted_classes = np.argmax(np.round(predicted_classes),axis=1)"
   ]
  },
  {
   "cell_type": "code",
   "execution_count": 44,
   "metadata": {
    "ExecuteTime": {
     "end_time": "2020-01-09T20:22:30.110495Z",
     "start_time": "2020-01-09T20:22:30.107573Z"
    }
   },
   "outputs": [
    {
     "data": {
      "text/plain": [
       "((10000,), (10000,))"
      ]
     },
     "execution_count": 44,
     "metadata": {},
     "output_type": "execute_result"
    }
   ],
   "source": [
    "predicted_classes.shape, test_labels.shape"
   ]
  },
  {
   "cell_type": "code",
   "execution_count": 45,
   "metadata": {
    "ExecuteTime": {
     "end_time": "2020-01-09T20:22:34.044994Z",
     "start_time": "2020-01-09T20:22:30.111965Z"
    }
   },
   "outputs": [
    {
     "name": "stdout",
     "output_type": "stream",
     "text": [
      "Found 9203 correct labels\n"
     ]
    },
    {
     "data": {
      "image/png": "[encoded data removed]",
      "text/plain": [
       "<Figure size 432x288 with 9 Axes>"
      ]
     },
     "metadata": {
      "needs_background": "light"
     },
     "output_type": "display_data"
    }
   ],
   "source": [
    "# Get the number of correct predictions and some plot showing the correctly predicted images.\n",
    "correct = np.where(predicted_classes==test_labels)[0]\n",
    "print(\"Found %d correct labels\" % len(correct))\n",
    "for i, correct in enumerate(correct[:9]):\n",
    "    plt.subplot(3,3,i+1)\n",
    "    plt.imshow(test_data[correct].reshape(28,28), cmap='gray', interpolation='none')\n",
    "    plt.title(\"Predicted {}, Class {}\".format(predicted_classes[correct], test_labels[correct]))\n",
    "    plt.tight_layout()"
   ]
  },
  {
   "cell_type": "code",
   "execution_count": 46,
   "metadata": {
    "ExecuteTime": {
     "end_time": "2020-01-09T20:22:37.953532Z",
     "start_time": "2020-01-09T20:22:34.046663Z"
    }
   },
   "outputs": [
    {
     "name": "stdout",
     "output_type": "stream",
     "text": [
      "Found 797 incorrect labels\n"
     ]
    },
    {
     "data": {
      "image/png": "[encoded data removed]",
      "text/plain": [
       "<Figure size 432x288 with 9 Axes>"
      ]
     },
     "metadata": {
      "needs_background": "light"
     },
     "output_type": "display_data"
    }
   ],
   "source": [
    "# Get the number of incorrect predictions and some plots showing the incorrectly predicted images.\n",
    "incorrect = np.where(predicted_classes!=test_labels)[0]\n",
    "print(\"Found %d incorrect labels\" % len(incorrect))\n",
    "for i, incorrect in enumerate(incorrect[:9]):\n",
    "    plt.subplot(3,3,i+1)\n",
    "    plt.imshow(test_data[incorrect].reshape(28,28), cmap='gray', interpolation='none')\n",
    "    plt.title(\"Predicted {}, Class {}\".format(predicted_classes[incorrect], test_labels[incorrect]))\n",
    "    plt.tight_layout()"
   ]
  },
  {
   "cell_type": "markdown",
   "metadata": {},
   "source": [
    "## Classification Report"
   ]
  },
  {
   "cell_type": "markdown",
   "metadata": {},
   "source": [
    "Classification report will help us in identifying the misclassified classes in more detail. We will be able to observe for which class the model performed bad out of given 10 classes."
   ]
  },
  {
   "cell_type": "code",
   "execution_count": 47,
   "metadata": {
    "ExecuteTime": {
     "end_time": "2020-01-09T20:22:37.977660Z",
     "start_time": "2020-01-09T20:22:37.955165Z"
    }
   },
   "outputs": [
    {
     "name": "stdout",
     "output_type": "stream",
     "text": [
      "              precision    recall  f1-score   support\n",
      "\n",
      "     Class 0       0.85      0.89      0.87      1000\n",
      "     Class 1       0.99      0.98      0.98      1000\n",
      "     Class 2       0.86      0.90      0.88      1000\n",
      "     Class 3       0.92      0.91      0.92      1000\n",
      "     Class 4       0.86      0.89      0.88      1000\n",
      "     Class 5       0.98      0.98      0.98      1000\n",
      "     Class 6       0.80      0.72      0.76      1000\n",
      "     Class 7       0.97      0.97      0.97      1000\n",
      "     Class 8       0.99      0.98      0.98      1000\n",
      "     Class 9       0.97      0.97      0.97      1000\n",
      "\n",
      "    accuracy                           0.92     10000\n",
      "   macro avg       0.92      0.92      0.92     10000\n",
      "weighted avg       0.92      0.92      0.92     10000\n",
      "\n"
     ]
    }
   ],
   "source": [
    "from sklearn.metrics import classification_report\n",
    "target_names = [\"Class {}\".format(i) for i in range(num_classes)]\n",
    "print(classification_report(test_labels, predicted_classes, target_names=target_names))"
   ]
  },
  {
   "cell_type": "markdown",
   "metadata": {},
   "source": [
    "**Note :-** Above model has been trained using mostly the default parameters, there are alot of parameters to play with and also, parameters that can be tuned by using hyper-parameter tuning techniques."
   ]
  },
  {
   "cell_type": "markdown",
   "metadata": {},
   "source": [
    "# Adding Dropout Layer"
   ]
  },
  {
   "cell_type": "markdown",
   "metadata": {},
   "source": [
    "Purpose of dropout layer is to overcome the problem of overfitting to some extent.\n",
    "\n",
    "Dropout randomly turns off a fraction of neurons during the training process, reducing the dependency on the training set by some amount. How many fractions of neurons you want to turn off is decided by a hyperparameter, which can be tuned accordingly. This way, turning off some neurons will not allow the network to memorize the training data since not all the neurons will be active at the same time and the inactive neurons will not be able to learn anything."
   ]
  },
  {
   "cell_type": "markdown",
   "metadata": {},
   "source": [
    "## Encoder Part"
   ]
  },
  {
   "cell_type": "code",
   "execution_count": 48,
   "metadata": {
    "ExecuteTime": {
     "end_time": "2020-01-09T20:22:37.984398Z",
     "start_time": "2020-01-09T20:22:37.979257Z"
    }
   },
   "outputs": [],
   "source": [
    "def encoder(input_img):\n",
    "    #encoder\n",
    "    #input = 28 x 28 x 1 (wide and thin)\n",
    "    conv1 = Conv2D(32, (3, 3), activation='relu', padding='same')(input_img) #28 x 28 x 32\n",
    "    conv1 = BatchNormalization()(conv1)\n",
    "    conv1 = Conv2D(32, (3, 3), activation='relu', padding='same')(conv1)\n",
    "    conv1 = BatchNormalization()(conv1)\n",
    "    pool1 = MaxPooling2D(pool_size=(2, 2))(conv1) #14 x 14 x 32\n",
    "    drop1 = Dropout(0.25)(pool1)\n",
    "    conv2 = Conv2D(64, (3, 3), activation='relu', padding='same')(drop1) #14 x 14 x 64\n",
    "    conv2 = BatchNormalization()(conv2)\n",
    "    conv2 = Conv2D(64, (3, 3), activation='relu', padding='same')(conv2)\n",
    "    conv2 = BatchNormalization()(conv2)\n",
    "    pool2 = MaxPooling2D(pool_size=(2, 2))(conv2) #7 x 7 x 64\n",
    "    drop2 = Dropout(0.25)(pool2)\n",
    "    conv3 = Conv2D(128, (3, 3), activation='relu', padding='same')(drop2) #7 x 7 x 128 (small and thick)\n",
    "    conv3 = BatchNormalization()(conv3)\n",
    "    conv3 = Conv2D(128, (3, 3), activation='relu', padding='same')(conv3)\n",
    "    conv3 = BatchNormalization()(conv3)\n",
    "    drop3 = Dropout(0.4)(conv3)\n",
    "#     conv4 = Conv2D(256, (3, 3), activation='relu', padding='same')(drop3) #7 x 7 x 256 (small and thick)\n",
    "#     conv4 = BatchNormalization()(conv4)\n",
    "#     conv4 = Conv2D(256, (3, 3), activation='relu', padding='same')(conv4)\n",
    "#     conv4 = BatchNormalization()(conv4)\n",
    "#     drop4 = Dropout(0.3)(conv4)\n",
    "    return drop3"
   ]
  },
  {
   "cell_type": "markdown",
   "metadata": {},
   "source": [
    "## Fully Connected Layer"
   ]
  },
  {
   "cell_type": "code",
   "execution_count": 49,
   "metadata": {
    "ExecuteTime": {
     "end_time": "2020-01-09T20:22:37.988822Z",
     "start_time": "2020-01-09T20:22:37.985896Z"
    }
   },
   "outputs": [],
   "source": [
    "def fc(enco):\n",
    "    flat = Flatten()(enco)\n",
    "    den = Dense(128, activation='relu')(flat)\n",
    "    out = Dense(num_classes, activation='softmax')(den)\n",
    "    return out"
   ]
  },
  {
   "cell_type": "code",
   "execution_count": 50,
   "metadata": {
    "ExecuteTime": {
     "end_time": "2020-01-09T20:22:37.992412Z",
     "start_time": "2020-01-09T20:22:37.990203Z"
    }
   },
   "outputs": [],
   "source": [
    "# Adding Early stopping for better learning of the network.\n",
    "\n",
    "# es = EarlyStopping(monitor='val_loss', mode='min', verbose=1)"
   ]
  },
  {
   "cell_type": "code",
   "execution_count": 51,
   "metadata": {
    "ExecuteTime": {
     "end_time": "2020-01-09T20:22:38.481721Z",
     "start_time": "2020-01-09T20:22:37.994028Z"
    }
   },
   "outputs": [],
   "source": [
    "encode = encoder(input_img)\n",
    "full_model = Model(input_img,fc(encode))"
   ]
  },
  {
   "cell_type": "code",
   "execution_count": 52,
   "metadata": {
    "ExecuteTime": {
     "end_time": "2020-01-09T20:22:38.486322Z",
     "start_time": "2020-01-09T20:22:38.483632Z"
    },
    "scrolled": true
   },
   "outputs": [],
   "source": [
    "# Setting first 19 layers trainable false.\n",
    "for layer in full_model.layers[0:19]:\n",
    "    layer.trainable = True"
   ]
  },
  {
   "cell_type": "markdown",
   "metadata": {},
   "source": [
    "## Compiling The Model"
   ]
  },
  {
   "cell_type": "code",
   "execution_count": 53,
   "metadata": {
    "ExecuteTime": {
     "end_time": "2020-01-09T20:22:38.550144Z",
     "start_time": "2020-01-09T20:22:38.488118Z"
    }
   },
   "outputs": [],
   "source": [
    "# Compiling the model\n",
    "full_model.compile(loss=keras.losses.categorical_crossentropy,\n",
    "                   optimizer=keras.optimizers.Adam(),\n",
    "                   metrics=['accuracy'])"
   ]
  },
  {
   "cell_type": "code",
   "execution_count": 54,
   "metadata": {
    "ExecuteTime": {
     "end_time": "2020-01-09T20:22:38.560512Z",
     "start_time": "2020-01-09T20:22:38.551651Z"
    }
   },
   "outputs": [
    {
     "name": "stdout",
     "output_type": "stream",
     "text": [
      "Model: \"model_3\"\n",
      "_________________________________________________________________\n",
      "Layer (type)                 Output Shape              Param #   \n",
      "=================================================================\n",
      "input_1 (InputLayer)         (None, 28, 28, 1)         0         \n",
      "_________________________________________________________________\n",
      "conv2d_24 (Conv2D)           (None, 28, 28, 32)        320       \n",
      "_________________________________________________________________\n",
      "batch_normalization_23 (Batc (None, 28, 28, 32)        128       \n",
      "_________________________________________________________________\n",
      "conv2d_25 (Conv2D)           (None, 28, 28, 32)        9248      \n",
      "_________________________________________________________________\n",
      "batch_normalization_24 (Batc (None, 28, 28, 32)        128       \n",
      "_________________________________________________________________\n",
      "max_pooling2d_5 (MaxPooling2 (None, 14, 14, 32)        0         \n",
      "_________________________________________________________________\n",
      "dropout_1 (Dropout)          (None, 14, 14, 32)        0         \n",
      "_________________________________________________________________\n",
      "conv2d_26 (Conv2D)           (None, 14, 14, 64)        18496     \n",
      "_________________________________________________________________\n",
      "batch_normalization_25 (Batc (None, 14, 14, 64)        256       \n",
      "_________________________________________________________________\n",
      "conv2d_27 (Conv2D)           (None, 14, 14, 64)        36928     \n",
      "_________________________________________________________________\n",
      "batch_normalization_26 (Batc (None, 14, 14, 64)        256       \n",
      "_________________________________________________________________\n",
      "max_pooling2d_6 (MaxPooling2 (None, 7, 7, 64)          0         \n",
      "_________________________________________________________________\n",
      "dropout_2 (Dropout)          (None, 7, 7, 64)          0         \n",
      "_________________________________________________________________\n",
      "conv2d_28 (Conv2D)           (None, 7, 7, 128)         73856     \n",
      "_________________________________________________________________\n",
      "batch_normalization_27 (Batc (None, 7, 7, 128)         512       \n",
      "_________________________________________________________________\n",
      "conv2d_29 (Conv2D)           (None, 7, 7, 128)         147584    \n",
      "_________________________________________________________________\n",
      "batch_normalization_28 (Batc (None, 7, 7, 128)         512       \n",
      "_________________________________________________________________\n",
      "dropout_3 (Dropout)          (None, 7, 7, 128)         0         \n",
      "_________________________________________________________________\n",
      "flatten_2 (Flatten)          (None, 6272)              0         \n",
      "_________________________________________________________________\n",
      "dense_3 (Dense)              (None, 128)               802944    \n",
      "_________________________________________________________________\n",
      "dense_4 (Dense)              (None, 10)                1290      \n",
      "=================================================================\n",
      "Total params: 1,092,458\n",
      "Trainable params: 1,091,562\n",
      "Non-trainable params: 896\n",
      "_________________________________________________________________\n"
     ]
    }
   ],
   "source": [
    "# Printing model summary.\n",
    "full_model.summary()"
   ]
  },
  {
   "cell_type": "markdown",
   "metadata": {},
   "source": [
    "## Train The Model"
   ]
  },
  {
   "cell_type": "code",
   "execution_count": 55,
   "metadata": {
    "ExecuteTime": {
     "end_time": "2020-01-09T21:00:17.704751Z",
     "start_time": "2020-01-09T20:22:38.561899Z"
    },
    "scrolled": true
   },
   "outputs": [
    {
     "name": "stdout",
     "output_type": "stream",
     "text": [
      "Train on 48000 samples, validate on 12000 samples\n",
      "Epoch 1/20\n",
      "48000/48000 [==============================] - 113s 2ms/step - loss: 0.4486 - accuracy: 0.8405 - val_loss: 0.3535 - val_accuracy: 0.8758\n",
      "Epoch 2/20\n",
      "48000/48000 [==============================] - 111s 2ms/step - loss: 0.3046 - accuracy: 0.8896 - val_loss: 0.2899 - val_accuracy: 0.8969\n",
      "Epoch 3/20\n",
      "48000/48000 [==============================] - 112s 2ms/step - loss: 0.2651 - accuracy: 0.9036 - val_loss: 0.3246 - val_accuracy: 0.8898\n",
      "Epoch 4/20\n",
      "48000/48000 [==============================] - 111s 2ms/step - loss: 0.2413 - accuracy: 0.9114 - val_loss: 0.2439 - val_accuracy: 0.9149\n",
      "Epoch 5/20\n",
      "48000/48000 [==============================] - 114s 2ms/step - loss: 0.2167 - accuracy: 0.9206 - val_loss: 0.2174 - val_accuracy: 0.9250\n",
      "Epoch 6/20\n",
      "48000/48000 [==============================] - 114s 2ms/step - loss: 0.2023 - accuracy: 0.9255 - val_loss: 0.2184 - val_accuracy: 0.9235\n",
      "Epoch 7/20\n",
      "48000/48000 [==============================] - 113s 2ms/step - loss: 0.1880 - accuracy: 0.9304 - val_loss: 0.2335 - val_accuracy: 0.9194\n",
      "Epoch 8/20\n",
      "48000/48000 [==============================] - 112s 2ms/step - loss: 0.1776 - accuracy: 0.9344 - val_loss: 0.2044 - val_accuracy: 0.9312\n",
      "Epoch 9/20\n",
      "48000/48000 [==============================] - 112s 2ms/step - loss: 0.1639 - accuracy: 0.9394 - val_loss: 0.2244 - val_accuracy: 0.9243\n",
      "Epoch 10/20\n",
      "48000/48000 [==============================] - 114s 2ms/step - loss: 0.1548 - accuracy: 0.9427 - val_loss: 0.2207 - val_accuracy: 0.9264\n",
      "Epoch 11/20\n",
      "48000/48000 [==============================] - 115s 2ms/step - loss: 0.1467 - accuracy: 0.9461 - val_loss: 0.2000 - val_accuracy: 0.9312\n",
      "Epoch 12/20\n",
      "48000/48000 [==============================] - 114s 2ms/step - loss: 0.1391 - accuracy: 0.9483 - val_loss: 0.2071 - val_accuracy: 0.9316\n",
      "Epoch 13/20\n",
      "48000/48000 [==============================] - 114s 2ms/step - loss: 0.1306 - accuracy: 0.9510 - val_loss: 0.2199 - val_accuracy: 0.9317\n",
      "Epoch 14/20\n",
      "48000/48000 [==============================] - 114s 2ms/step - loss: 0.1240 - accuracy: 0.9533 - val_loss: 0.2446 - val_accuracy: 0.9248\n",
      "Epoch 15/20\n",
      "48000/48000 [==============================] - 112s 2ms/step - loss: 0.1190 - accuracy: 0.9561 - val_loss: 0.2269 - val_accuracy: 0.9317\n",
      "Epoch 16/20\n",
      "48000/48000 [==============================] - 112s 2ms/step - loss: 0.1113 - accuracy: 0.9584 - val_loss: 0.2257 - val_accuracy: 0.9336\n",
      "Epoch 17/20\n",
      "48000/48000 [==============================] - 112s 2ms/step - loss: 0.1097 - accuracy: 0.9590 - val_loss: 0.2259 - val_accuracy: 0.9347\n",
      "Epoch 18/20\n",
      "48000/48000 [==============================] - 113s 2ms/step - loss: 0.1007 - accuracy: 0.9629 - val_loss: 0.2269 - val_accuracy: 0.9356\n",
      "Epoch 19/20\n",
      "48000/48000 [==============================] - 112s 2ms/step - loss: 0.1003 - accuracy: 0.9628 - val_loss: 0.2372 - val_accuracy: 0.9363\n",
      "Epoch 20/20\n",
      "48000/48000 [==============================] - 112s 2ms/step - loss: 0.0972 - accuracy: 0.9644 - val_loss: 0.2406 - val_accuracy: 0.9323\n"
     ]
    }
   ],
   "source": [
    "classify_train = full_model.fit(train_X,\n",
    "                                train_label,\n",
    "                                batch_size=20,\n",
    "                                epochs=20,\n",
    "                                verbose=1,\n",
    "                                validation_data=(valid_X, valid_label))"
   ]
  },
  {
   "cell_type": "markdown",
   "metadata": {},
   "source": [
    "## Plotting The Training And Validation Results"
   ]
  },
  {
   "cell_type": "code",
   "execution_count": 56,
   "metadata": {
    "ExecuteTime": {
     "end_time": "2020-01-09T21:00:18.263572Z",
     "start_time": "2020-01-09T21:00:17.706412Z"
    },
    "scrolled": true
   },
   "outputs": [
    {
     "data": {
      "image/png": "[encoded data removed]",
      "text/plain": [
       "<Figure size 432x288 with 1 Axes>"
      ]
     },
     "metadata": {
      "needs_background": "light"
     },
     "output_type": "display_data"
    },
    {
     "data": {
      "image/png": "[encoded data removed]",
      "text/plain": [
       "<Figure size 432x288 with 1 Axes>"
      ]
     },
     "metadata": {
      "needs_background": "light"
     },
     "output_type": "display_data"
    }
   ],
   "source": [
    "accuracy = classify_train.history['accuracy']\n",
    "val_accuracy = classify_train.history['val_accuracy']\n",
    "loss = classify_train.history['loss']\n",
    "val_loss = classify_train.history['val_loss']\n",
    "epochs = range(len(accuracy))\n",
    "plt.plot(epochs, accuracy, label='Training accuracy')\n",
    "plt.plot(epochs, val_accuracy, label='Validation accuracy')\n",
    "plt.ylabel('Accuracy')\n",
    "plt.xlabel('Number Of Epochs')\n",
    "plt.title('Training and validation accuracy')\n",
    "plt.legend()\n",
    "plt.figure()\n",
    "plt.plot(epochs, loss, label='Training loss')\n",
    "plt.plot(epochs, val_loss, label='Validation loss')\n",
    "plt.xlabel('Number Of Epochs')\n",
    "plt.ylabel('Loss')\n",
    "plt.title('Training and validation loss')\n",
    "plt.legend()\n",
    "plt.show()"
   ]
  },
  {
   "cell_type": "markdown",
   "metadata": {},
   "source": [
    "**Conclusion :-** We are able to reduce the gap between Training and Validation curves for both Accuracy and Loss."
   ]
  },
  {
   "cell_type": "code",
   "execution_count": null,
   "metadata": {},
   "outputs": [],
   "source": []
  }
 ],
 "metadata": {
  "hide_input": false,
  "kernelspec": {
   "display_name": "Python 3",
   "language": "python",
   "name": "python3"
  },
  "language_info": {
   "codemirror_mode": {
    "name": "ipython",
    "version": 3
   },
   "file_extension": ".py",
   "mimetype": "text/x-python",
   "name": "python",
   "nbconvert_exporter": "python",
   "pygments_lexer": "ipython3",
   "version": "3.7.5"
  },
  "toc": {
   "base_numbering": 1,
   "nav_menu": {},
   "number_sections": true,
   "sideBar": true,
   "skip_h1_title": false,
   "title_cell": "Table of Contents",
   "title_sidebar": "Contents",
   "toc_cell": false,
   "toc_position": {
    "height": "calc(100% - 180px)",
    "left": "10px",
    "top": "150px",
    "width": "165px"
   },
   "toc_section_display": true,
   "toc_window_display": true
  }
 },
 "nbformat": 4,
 "nbformat_minor": 2
}
